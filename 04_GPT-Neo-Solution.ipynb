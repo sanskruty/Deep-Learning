{
 "cells": [
  {
   "cell_type": "markdown",
   "metadata": {},
   "source": [
    "# GPT-Neo - Open Sourced GPT-3\n",
    "## This notebook outlines the concepts for using GPT-Neo for Text Generation"
   ]
  },
  {
   "cell_type": "markdown",
   "metadata": {},
   "source": [
    "GPT-Neo is available to us through a github repo and python package **happytransformer** built on top of **transformers** library"
   ]
  },
  {
   "cell_type": "markdown",
   "metadata": {},
   "source": [
    "### Install happytransformer"
   ]
  },
  {
   "cell_type": "code",
   "execution_count": 16,
   "metadata": {},
   "outputs": [
    {
     "name": "stdout",
     "output_type": "stream",
     "text": [
      "Collecting happytransformer\n",
      "  Using cached happytransformer-2.2.2-py3-none-any.whl (39 kB)\n",
      "Requirement already satisfied: torch>=1.0 in /Users/subashgandyer/opt/anaconda3/lib/python3.8/site-packages (from happytransformer) (1.7.1)\n",
      "Requirement already satisfied: sentencepiece in /Users/subashgandyer/opt/anaconda3/lib/python3.8/site-packages (from happytransformer) (0.1.94)\n",
      "Requirement already satisfied: tqdm>=4.27 in /Users/subashgandyer/opt/anaconda3/lib/python3.8/site-packages (from happytransformer) (4.50.2)\n",
      "Requirement already satisfied: protobuf in /Users/subashgandyer/opt/anaconda3/lib/python3.8/site-packages (from happytransformer) (3.15.8)\n",
      "Collecting transformers>=4.4.0\n",
      "  Using cached transformers-4.6.1-py3-none-any.whl (2.2 MB)\n",
      "Collecting datasets>=1.6.0\n",
      "  Using cached datasets-1.7.0-py3-none-any.whl (234 kB)\n",
      "Requirement already satisfied: numpy in /Users/subashgandyer/opt/anaconda3/lib/python3.8/site-packages (from torch>=1.0->happytransformer) (1.19.2)\n",
      "Requirement already satisfied: typing-extensions in /Users/subashgandyer/opt/anaconda3/lib/python3.8/site-packages (from torch>=1.0->happytransformer) (3.7.4.3)\n",
      "Requirement already satisfied: six>=1.9 in /Users/subashgandyer/opt/anaconda3/lib/python3.8/site-packages (from protobuf->happytransformer) (1.15.0)\n",
      "Requirement already satisfied: requests in /Users/subashgandyer/opt/anaconda3/lib/python3.8/site-packages (from transformers>=4.4.0->happytransformer) (2.24.0)\n",
      "Requirement already satisfied: filelock in /Users/subashgandyer/opt/anaconda3/lib/python3.8/site-packages (from transformers>=4.4.0->happytransformer) (3.0.12)\n",
      "Requirement already satisfied: sacremoses in /Users/subashgandyer/opt/anaconda3/lib/python3.8/site-packages (from transformers>=4.4.0->happytransformer) (0.0.43)\n",
      "Collecting huggingface-hub==0.0.8\n",
      "  Using cached huggingface_hub-0.0.8-py3-none-any.whl (34 kB)\n",
      "Collecting tokenizers<0.11,>=0.10.1\n",
      "  Using cached tokenizers-0.10.3-cp38-cp38-macosx_10_11_x86_64.whl (2.2 MB)\n",
      "Requirement already satisfied: packaging in /Users/subashgandyer/opt/anaconda3/lib/python3.8/site-packages (from transformers>=4.4.0->happytransformer) (20.4)\n",
      "Requirement already satisfied: regex!=2019.12.17 in /Users/subashgandyer/opt/anaconda3/lib/python3.8/site-packages (from transformers>=4.4.0->happytransformer) (2020.10.15)\n",
      "Requirement already satisfied: pandas in /Users/subashgandyer/opt/anaconda3/lib/python3.8/site-packages (from datasets>=1.6.0->happytransformer) (1.1.3)\n",
      "Collecting pyarrow<4.0.0,>=1.0.0\n",
      "  Using cached pyarrow-3.0.0-cp38-cp38-macosx_10_13_x86_64.whl (14.1 MB)\n",
      "Collecting multiprocess\n",
      "  Using cached multiprocess-0.70.11.1-py38-none-any.whl (126 kB)\n",
      "Collecting xxhash\n",
      "  Using cached xxhash-2.0.2-cp38-cp38-macosx_10_9_x86_64.whl (31 kB)\n",
      "Requirement already satisfied: fsspec in /Users/subashgandyer/opt/anaconda3/lib/python3.8/site-packages (from datasets>=1.6.0->happytransformer) (0.8.3)\n",
      "Collecting dill\n",
      "  Using cached dill-0.3.3-py2.py3-none-any.whl (81 kB)\n",
      "Requirement already satisfied: chardet<4,>=3.0.2 in /Users/subashgandyer/opt/anaconda3/lib/python3.8/site-packages (from requests->transformers>=4.4.0->happytransformer) (3.0.4)\n",
      "Requirement already satisfied: idna<3,>=2.5 in /Users/subashgandyer/opt/anaconda3/lib/python3.8/site-packages (from requests->transformers>=4.4.0->happytransformer) (2.10)\n",
      "Requirement already satisfied: urllib3!=1.25.0,!=1.25.1,<1.26,>=1.21.1 in /Users/subashgandyer/opt/anaconda3/lib/python3.8/site-packages (from requests->transformers>=4.4.0->happytransformer) (1.25.11)\n",
      "Requirement already satisfied: certifi>=2017.4.17 in /Users/subashgandyer/opt/anaconda3/lib/python3.8/site-packages (from requests->transformers>=4.4.0->happytransformer) (2020.6.20)\n",
      "Requirement already satisfied: click in /Users/subashgandyer/opt/anaconda3/lib/python3.8/site-packages (from sacremoses->transformers>=4.4.0->happytransformer) (7.1.2)\n",
      "Requirement already satisfied: joblib in /Users/subashgandyer/opt/anaconda3/lib/python3.8/site-packages (from sacremoses->transformers>=4.4.0->happytransformer) (0.17.0)\n",
      "Requirement already satisfied: pyparsing>=2.0.2 in /Users/subashgandyer/opt/anaconda3/lib/python3.8/site-packages (from packaging->transformers>=4.4.0->happytransformer) (2.4.7)\n",
      "Requirement already satisfied: pytz>=2017.2 in /Users/subashgandyer/opt/anaconda3/lib/python3.8/site-packages (from pandas->datasets>=1.6.0->happytransformer) (2020.1)\n",
      "Requirement already satisfied: python-dateutil>=2.7.3 in /Users/subashgandyer/opt/anaconda3/lib/python3.8/site-packages (from pandas->datasets>=1.6.0->happytransformer) (2.8.1)\n",
      "Installing collected packages: huggingface-hub, tokenizers, transformers, pyarrow, dill, multiprocess, xxhash, datasets, happytransformer\n",
      "  Attempting uninstall: tokenizers\n",
      "    Found existing installation: tokenizers 0.9.4\n",
      "    Uninstalling tokenizers-0.9.4:\n",
      "      Successfully uninstalled tokenizers-0.9.4\n",
      "  Attempting uninstall: transformers\n",
      "    Found existing installation: transformers 4.1.1\n",
      "    Uninstalling transformers-4.1.1:\n",
      "      Successfully uninstalled transformers-4.1.1\n",
      "\u001b[31mERROR: After October 2020 you may experience errors when installing or updating packages. This is because pip will change the way that it resolves dependency conflicts.\n",
      "\n",
      "We recommend you use --use-feature=2020-resolver to test your packages with the new resolver before it becomes the default.\n",
      "\n",
      "datasets 1.7.0 requires tqdm<4.50.0,>=4.27, but you'll have tqdm 4.50.2 which is incompatible.\u001b[0m\n",
      "Successfully installed datasets-1.7.0 dill-0.3.3 happytransformer-2.2.2 huggingface-hub-0.0.8 multiprocess-0.70.11.1 pyarrow-3.0.0 tokenizers-0.10.3 transformers-4.6.1 xxhash-2.0.2\n"
     ]
    }
   ],
   "source": [
    "! pip install happytransformer"
   ]
  },
  {
   "cell_type": "markdown",
   "metadata": {},
   "source": [
    "### Import the library"
   ]
  },
  {
   "cell_type": "code",
   "execution_count": 1,
   "metadata": {},
   "outputs": [],
   "source": [
    "from happytransformer import HappyGeneration"
   ]
  },
  {
   "cell_type": "markdown",
   "metadata": {},
   "source": [
    "### Create a GPT-Neo model by choosing a GPT-Neo-125M pretrained model"
   ]
  },
  {
   "cell_type": "code",
   "execution_count": 2,
   "metadata": {},
   "outputs": [
    {
     "data": {
      "application/vnd.jupyter.widget-view+json": {
       "model_id": "08f3e3cd697b4c9c9417948fa20eb0b0",
       "version_major": 2,
       "version_minor": 0
      },
      "text/plain": [
       "HBox(children=(FloatProgress(value=0.0, description='Downloading', max=1007.0, style=ProgressStyle(description…"
      ]
     },
     "metadata": {},
     "output_type": "display_data"
    },
    {
     "name": "stdout",
     "output_type": "stream",
     "text": [
      "\n"
     ]
    },
    {
     "data": {
      "application/vnd.jupyter.widget-view+json": {
       "model_id": "ec7159bc4c5a45eba6dada578c9f8882",
       "version_major": 2,
       "version_minor": 0
      },
      "text/plain": [
       "HBox(children=(FloatProgress(value=0.0, description='Downloading', max=526017373.0, style=ProgressStyle(descri…"
      ]
     },
     "metadata": {},
     "output_type": "display_data"
    },
    {
     "name": "stdout",
     "output_type": "stream",
     "text": [
      "\n"
     ]
    },
    {
     "data": {
      "application/vnd.jupyter.widget-view+json": {
       "model_id": "6bd4c03b00ab44aa9fdf8fe50799b25a",
       "version_major": 2,
       "version_minor": 0
      },
      "text/plain": [
       "HBox(children=(FloatProgress(value=0.0, description='Downloading', max=898669.0, style=ProgressStyle(descripti…"
      ]
     },
     "metadata": {},
     "output_type": "display_data"
    },
    {
     "name": "stdout",
     "output_type": "stream",
     "text": [
      "\n"
     ]
    },
    {
     "data": {
      "application/vnd.jupyter.widget-view+json": {
       "model_id": "2ebdd20681e94959923aa93ba924daa9",
       "version_major": 2,
       "version_minor": 0
      },
      "text/plain": [
       "HBox(children=(FloatProgress(value=0.0, description='Downloading', max=456318.0, style=ProgressStyle(descripti…"
      ]
     },
     "metadata": {},
     "output_type": "display_data"
    },
    {
     "name": "stdout",
     "output_type": "stream",
     "text": [
      "\n"
     ]
    },
    {
     "data": {
      "application/vnd.jupyter.widget-view+json": {
       "model_id": "1d844110d0a64721bc3917103f8ecc8a",
       "version_major": 2,
       "version_minor": 0
      },
      "text/plain": [
       "HBox(children=(FloatProgress(value=0.0, description='Downloading', max=357.0, style=ProgressStyle(description_…"
      ]
     },
     "metadata": {},
     "output_type": "display_data"
    },
    {
     "name": "stdout",
     "output_type": "stream",
     "text": [
      "\n"
     ]
    },
    {
     "data": {
      "application/vnd.jupyter.widget-view+json": {
       "model_id": "bb3fe2ba2ad1481b9671c220ee195bbc",
       "version_major": 2,
       "version_minor": 0
      },
      "text/plain": [
       "HBox(children=(FloatProgress(value=0.0, description='Downloading', max=560.0, style=ProgressStyle(description_…"
      ]
     },
     "metadata": {},
     "output_type": "display_data"
    },
    {
     "name": "stdout",
     "output_type": "stream",
     "text": [
      "\n"
     ]
    },
    {
     "name": "stderr",
     "output_type": "stream",
     "text": [
      "05/30/2021 08:54:46 - INFO - happytransformer.happy_transformer -   Using model: cpu\n"
     ]
    },
    {
     "name": "stdout",
     "output_type": "stream",
     "text": [
      "<happytransformer.happy_generation.HappyGeneration object at 0x7f8780376520>\n"
     ]
    }
   ],
   "source": [
    "gpt_neo = HappyGeneration(model_type=\"GPT-NEO\", model_name=\"EleutherAI/gpt-neo-125M\") \n",
    "\n",
    "print(gpt_neo)"
   ]
  },
  {
   "cell_type": "markdown",
   "metadata": {},
   "source": [
    "### Generate text"
   ]
  },
  {
   "cell_type": "code",
   "execution_count": 10,
   "metadata": {},
   "outputs": [
    {
     "name": "stderr",
     "output_type": "stream",
     "text": [
      "Setting `pad_token_id` to `eos_token_id`:50256 for open-end generation.\n"
     ]
    },
    {
     "name": "stdout",
     "output_type": "stream",
     "text": [
      "iphone that is designed to be used with the iPhone and iPad. It is a phone that is designed to be used with the iPhone and iPad. It is a phone that is designed to be used with the iPhone and iPad. It is a phone\n"
     ]
    }
   ],
   "source": [
    "generated_result = gpt_neo.generate_text(\"Iphone is a phone \")\n",
    "print(generated_result.text)"
   ]
  },
  {
   "cell_type": "markdown",
   "metadata": {},
   "source": [
    "### GENSettings - https://happytransformer.com/text-generation/settings/\n",
    "- do_sample\n",
    "    - When True, picks words based on their conditional probability.\n",
    "- top-k\n",
    "    - How many potential answers are considered when performing sampling from peak.\n",
    "- max_length\n",
    "    - Maximum number of generated tokens\n",
    "- min_length\n",
    "    - Minimum number of generated tokens\n",
    "- many more ..."
   ]
  },
  {
   "cell_type": "code",
   "execution_count": 3,
   "metadata": {},
   "outputs": [],
   "source": [
    "from happytransformer import GENSettings"
   ]
  },
  {
   "cell_type": "markdown",
   "metadata": {},
   "source": [
    "### DO NOT repeat the words in generation"
   ]
  },
  {
   "cell_type": "code",
   "execution_count": 11,
   "metadata": {},
   "outputs": [],
   "source": [
    "args = GENSettings(no_repeat_ngram_size=2)"
   ]
  },
  {
   "cell_type": "code",
   "execution_count": 12,
   "metadata": {},
   "outputs": [
    {
     "name": "stderr",
     "output_type": "stream",
     "text": [
      "Setting `pad_token_id` to `eos_token_id`:50256 for open-end generation.\n"
     ]
    },
    {
     "name": "stdout",
     "output_type": "stream",
     "text": [
      "iphone that is designed to be used with the iPhone and iPad. It is the most popular phone among the users of the world.\n",
      "\n",
      "The phone is available in the following countries:\n",
      " \n",
      "United States\n",
      "Canada\n",
      "New Zealand\n",
      "Australia\n"
     ]
    }
   ],
   "source": [
    "generated_result = gpt_neo.generate_text(\"Iphone is a phone \", args=args)\n",
    "print(generated_result.text)"
   ]
  },
  {
   "cell_type": "markdown",
   "metadata": {},
   "source": [
    "### Tweak the generation more"
   ]
  },
  {
   "cell_type": "code",
   "execution_count": 13,
   "metadata": {},
   "outputs": [],
   "source": [
    "top_k_sampling_settings = GENSettings(do_sample=True, \n",
    "                                      top_k=50, \n",
    "                                      max_length=30, \n",
    "                                      min_length=10,\n",
    "                                      temperature=0.7\n",
    "                                     )"
   ]
  },
  {
   "cell_type": "code",
   "execution_count": 15,
   "metadata": {},
   "outputs": [
    {
     "name": "stderr",
     "output_type": "stream",
     "text": [
      "Setting `pad_token_id` to `eos_token_id`:50256 for open-end generation.\n"
     ]
    },
    {
     "name": "stdout",
     "output_type": "stream",
     "text": [
      "iphone, and it’s the perfect portable device for me to use. I got an iPhone when I was 11 and I was using it\n"
     ]
    }
   ],
   "source": [
    "generated_result = gpt_neo.generate_text(\"Iphone is \", args=top_k_sampling_settings)\n",
    "print(generated_result.text)"
   ]
  },
  {
   "cell_type": "code",
   "execution_count": null,
   "metadata": {},
   "outputs": [],
   "source": []
  },
  {
   "cell_type": "code",
   "execution_count": null,
   "metadata": {},
   "outputs": [],
   "source": []
  }
 ],
 "metadata": {
  "kernelspec": {
   "display_name": "testing",
   "language": "python",
   "name": "testing"
  },
  "language_info": {
   "codemirror_mode": {
    "name": "ipython",
    "version": 3
   },
   "file_extension": ".py",
   "mimetype": "text/x-python",
   "name": "python",
   "nbconvert_exporter": "python",
   "pygments_lexer": "ipython3",
   "version": "3.8.5"
  }
 },
 "nbformat": 4,
 "nbformat_minor": 4
}
