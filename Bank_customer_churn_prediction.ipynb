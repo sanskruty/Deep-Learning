{
 "cells": [
  {
   "cell_type": "markdown",
   "metadata": {
    "id": "lP6JLo1tGNBg"
   },
   "source": [
    "# Artificial Neural Network"
   ]
  },
  {
   "cell_type": "markdown",
   "metadata": {
    "id": "gWZyYmS_UE_L"
   },
   "source": [
    "### Importing the libraries"
   ]
  },
  {
   "cell_type": "code",
   "execution_count": 96,
   "metadata": {
    "id": "MxkJoQBkUIHC"
   },
   "outputs": [],
   "source": [
    "import numpy as np\n",
    "import pandas as pd\n",
    "import tensorflow as tf"
   ]
  },
  {
   "cell_type": "code",
   "execution_count": 97,
   "metadata": {
    "colab": {
     "base_uri": "https://localhost:8080/",
     "height": 37
    },
    "id": "ZaTwK7ojXr2F",
    "outputId": "d7eb191c-52cb-408c-df9f-9c737193c58b"
   },
   "outputs": [
    {
     "data": {
      "text/plain": [
       "'2.0.0'"
      ]
     },
     "execution_count": 97,
     "metadata": {},
     "output_type": "execute_result"
    }
   ],
   "source": [
    "tf.__version__"
   ]
  },
  {
   "cell_type": "markdown",
   "metadata": {
    "id": "1E0Q3aoKUCRX"
   },
   "source": [
    "## Part 1 - Data Preprocessing"
   ]
  },
  {
   "cell_type": "markdown",
   "metadata": {
    "id": "cKWAkFVGUU0Z"
   },
   "source": [
    "### Importing the dataset"
   ]
  },
  {
   "cell_type": "code",
   "execution_count": 98,
   "metadata": {
    "colab": {
     "base_uri": "https://localhost:8080/",
     "height": 204
    },
    "id": "MXUkhkMfU4wq",
    "outputId": "f7f1c1c0-24db-49d9-e3bd-ab34802450be"
   },
   "outputs": [
    {
     "data": {
      "text/html": [
       "<div>\n",
       "<style scoped>\n",
       "    .dataframe tbody tr th:only-of-type {\n",
       "        vertical-align: middle;\n",
       "    }\n",
       "\n",
       "    .dataframe tbody tr th {\n",
       "        vertical-align: top;\n",
       "    }\n",
       "\n",
       "    .dataframe thead th {\n",
       "        text-align: right;\n",
       "    }\n",
       "</style>\n",
       "<table border=\"1\" class=\"dataframe\">\n",
       "  <thead>\n",
       "    <tr style=\"text-align: right;\">\n",
       "      <th></th>\n",
       "      <th>RowNumber</th>\n",
       "      <th>CustomerId</th>\n",
       "      <th>Surname</th>\n",
       "      <th>CreditScore</th>\n",
       "      <th>Geography</th>\n",
       "      <th>Gender</th>\n",
       "      <th>Age</th>\n",
       "      <th>Tenure</th>\n",
       "      <th>Balance</th>\n",
       "      <th>NumOfProducts</th>\n",
       "      <th>HasCrCard</th>\n",
       "      <th>IsActiveMember</th>\n",
       "      <th>EstimatedSalary</th>\n",
       "      <th>Exited</th>\n",
       "    </tr>\n",
       "  </thead>\n",
       "  <tbody>\n",
       "    <tr>\n",
       "      <th>0</th>\n",
       "      <td>1</td>\n",
       "      <td>15634602</td>\n",
       "      <td>Hargrave</td>\n",
       "      <td>619</td>\n",
       "      <td>France</td>\n",
       "      <td>Female</td>\n",
       "      <td>42</td>\n",
       "      <td>2</td>\n",
       "      <td>0.00</td>\n",
       "      <td>1</td>\n",
       "      <td>1</td>\n",
       "      <td>1</td>\n",
       "      <td>101348.88</td>\n",
       "      <td>1</td>\n",
       "    </tr>\n",
       "    <tr>\n",
       "      <th>1</th>\n",
       "      <td>2</td>\n",
       "      <td>15647311</td>\n",
       "      <td>Hill</td>\n",
       "      <td>608</td>\n",
       "      <td>Spain</td>\n",
       "      <td>Female</td>\n",
       "      <td>41</td>\n",
       "      <td>1</td>\n",
       "      <td>83807.86</td>\n",
       "      <td>1</td>\n",
       "      <td>0</td>\n",
       "      <td>1</td>\n",
       "      <td>112542.58</td>\n",
       "      <td>0</td>\n",
       "    </tr>\n",
       "    <tr>\n",
       "      <th>2</th>\n",
       "      <td>3</td>\n",
       "      <td>15619304</td>\n",
       "      <td>Onio</td>\n",
       "      <td>502</td>\n",
       "      <td>France</td>\n",
       "      <td>Female</td>\n",
       "      <td>42</td>\n",
       "      <td>8</td>\n",
       "      <td>159660.80</td>\n",
       "      <td>3</td>\n",
       "      <td>1</td>\n",
       "      <td>0</td>\n",
       "      <td>113931.57</td>\n",
       "      <td>1</td>\n",
       "    </tr>\n",
       "    <tr>\n",
       "      <th>3</th>\n",
       "      <td>4</td>\n",
       "      <td>15701354</td>\n",
       "      <td>Boni</td>\n",
       "      <td>699</td>\n",
       "      <td>France</td>\n",
       "      <td>Female</td>\n",
       "      <td>39</td>\n",
       "      <td>1</td>\n",
       "      <td>0.00</td>\n",
       "      <td>2</td>\n",
       "      <td>0</td>\n",
       "      <td>0</td>\n",
       "      <td>93826.63</td>\n",
       "      <td>0</td>\n",
       "    </tr>\n",
       "    <tr>\n",
       "      <th>4</th>\n",
       "      <td>5</td>\n",
       "      <td>15737888</td>\n",
       "      <td>Mitchell</td>\n",
       "      <td>850</td>\n",
       "      <td>Spain</td>\n",
       "      <td>Female</td>\n",
       "      <td>43</td>\n",
       "      <td>2</td>\n",
       "      <td>125510.82</td>\n",
       "      <td>1</td>\n",
       "      <td>1</td>\n",
       "      <td>1</td>\n",
       "      <td>79084.10</td>\n",
       "      <td>0</td>\n",
       "    </tr>\n",
       "  </tbody>\n",
       "</table>\n",
       "</div>"
      ],
      "text/plain": [
       "   RowNumber  CustomerId   Surname  CreditScore Geography  Gender  Age  \\\n",
       "0          1    15634602  Hargrave          619    France  Female   42   \n",
       "1          2    15647311      Hill          608     Spain  Female   41   \n",
       "2          3    15619304      Onio          502    France  Female   42   \n",
       "3          4    15701354      Boni          699    France  Female   39   \n",
       "4          5    15737888  Mitchell          850     Spain  Female   43   \n",
       "\n",
       "   Tenure    Balance  NumOfProducts  HasCrCard  IsActiveMember  \\\n",
       "0       2       0.00              1          1               1   \n",
       "1       1   83807.86              1          0               1   \n",
       "2       8  159660.80              3          1               0   \n",
       "3       1       0.00              2          0               0   \n",
       "4       2  125510.82              1          1               1   \n",
       "\n",
       "   EstimatedSalary  Exited  \n",
       "0        101348.88       1  \n",
       "1        112542.58       0  \n",
       "2        113931.57       1  \n",
       "3         93826.63       0  \n",
       "4         79084.10       0  "
      ]
     },
     "execution_count": 98,
     "metadata": {},
     "output_type": "execute_result"
    }
   ],
   "source": [
    "dataset = pd.read_csv('Churn_Modelling.csv')\n",
    "dataset.head()"
   ]
  },
  {
   "cell_type": "code",
   "execution_count": 99,
   "metadata": {
    "id": "5Nir0cpTLZG5"
   },
   "outputs": [],
   "source": [
    "X = dataset.iloc[:, 3:-1].values\n",
    "y = dataset.iloc[:, -1].values"
   ]
  },
  {
   "cell_type": "code",
   "execution_count": 100,
   "metadata": {
    "colab": {
     "base_uri": "https://localhost:8080/"
    },
    "id": "VYP9cQTWbzuI",
    "outputId": "d3b1dc81-58c0-43e2-d2f7-03ec4039d143"
   },
   "outputs": [
    {
     "name": "stdout",
     "output_type": "stream",
     "text": [
      "[[619 'France' 'Female' ... 1 1 101348.88]\n",
      " [608 'Spain' 'Female' ... 0 1 112542.58]\n",
      " [502 'France' 'Female' ... 1 0 113931.57]\n",
      " ...\n",
      " [709 'France' 'Female' ... 0 1 42085.58]\n",
      " [772 'Germany' 'Male' ... 1 0 92888.52]\n",
      " [792 'France' 'Female' ... 1 0 38190.78]]\n"
     ]
    }
   ],
   "source": [
    "print(X)"
   ]
  },
  {
   "cell_type": "code",
   "execution_count": 101,
   "metadata": {
    "colab": {
     "base_uri": "https://localhost:8080/"
    },
    "id": "38vKGE6Nb2RR",
    "outputId": "0eb4d233-afc7-4970-ea83-ecf38b985e47"
   },
   "outputs": [
    {
     "name": "stdout",
     "output_type": "stream",
     "text": [
      "[1 0 1 ... 1 1 0]\n"
     ]
    }
   ],
   "source": [
    "print(y)"
   ]
  },
  {
   "cell_type": "markdown",
   "metadata": {
    "id": "N6bQ0UgSU-NJ"
   },
   "source": [
    "### Encoding categorical data"
   ]
  },
  {
   "cell_type": "markdown",
   "metadata": {
    "id": "le5MJreAbW52"
   },
   "source": [
    "Label Encoding the \"Gender\" column"
   ]
  },
  {
   "cell_type": "code",
   "execution_count": 102,
   "metadata": {
    "id": "PxVKWXxLbczC"
   },
   "outputs": [],
   "source": [
    "from sklearn.preprocessing import LabelEncoder\n",
    "le = LabelEncoder()\n",
    "X[:, 2] = le.fit_transform(X[:, 2])"
   ]
  },
  {
   "cell_type": "code",
   "execution_count": 103,
   "metadata": {
    "colab": {
     "base_uri": "https://localhost:8080/"
    },
    "id": "-M1KboxFb6OO",
    "outputId": "7d426b89-9735-48f7-a0df-9cd720e3f799"
   },
   "outputs": [
    {
     "name": "stdout",
     "output_type": "stream",
     "text": [
      "[[619 'France' 0 ... 1 1 101348.88]\n",
      " [608 'Spain' 0 ... 0 1 112542.58]\n",
      " [502 'France' 0 ... 1 0 113931.57]\n",
      " ...\n",
      " [709 'France' 0 ... 0 1 42085.58]\n",
      " [772 'Germany' 1 ... 1 0 92888.52]\n",
      " [792 'France' 0 ... 1 0 38190.78]]\n"
     ]
    }
   ],
   "source": [
    "print(X)"
   ]
  },
  {
   "cell_type": "markdown",
   "metadata": {
    "id": "CUxGZezpbMcb"
   },
   "source": [
    "One Hot Encoding the \"Geography\" column"
   ]
  },
  {
   "cell_type": "code",
   "execution_count": 104,
   "metadata": {
    "id": "AMXC8-KMVirw"
   },
   "outputs": [],
   "source": [
    "from sklearn.compose import ColumnTransformer\n",
    "from sklearn.preprocessing import OneHotEncoder\n",
    "ct = ColumnTransformer(transformers=[('encoder', OneHotEncoder(), [1])], remainder='passthrough')\n",
    "X = np.array(ct.fit_transform(X))"
   ]
  },
  {
   "cell_type": "code",
   "execution_count": 105,
   "metadata": {
    "colab": {
     "base_uri": "https://localhost:8080/"
    },
    "id": "ZcxwEon-b8nV",
    "outputId": "bc5bd52d-1265-45b9-bdc4-3faba72d7bab"
   },
   "outputs": [
    {
     "name": "stdout",
     "output_type": "stream",
     "text": [
      "[[1.0 0.0 0.0 ... 1 1 101348.88]\n",
      " [0.0 0.0 1.0 ... 0 1 112542.58]\n",
      " [1.0 0.0 0.0 ... 1 0 113931.57]\n",
      " ...\n",
      " [1.0 0.0 0.0 ... 0 1 42085.58]\n",
      " [0.0 1.0 0.0 ... 1 0 92888.52]\n",
      " [1.0 0.0 0.0 ... 1 0 38190.78]]\n"
     ]
    }
   ],
   "source": [
    "print(X)"
   ]
  },
  {
   "cell_type": "markdown",
   "metadata": {
    "id": "RE_FcHyfV3TQ"
   },
   "source": [
    "### Feature Scaling"
   ]
  },
  {
   "cell_type": "code",
   "execution_count": 106,
   "metadata": {
    "id": "ViCrE00rV8Sk"
   },
   "outputs": [],
   "source": [
    "from sklearn.preprocessing import StandardScaler\n",
    "sc = StandardScaler()\n",
    "X = sc.fit_transform(X)"
   ]
  },
  {
   "cell_type": "code",
   "execution_count": 107,
   "metadata": {
    "colab": {
     "base_uri": "https://localhost:8080/"
    },
    "id": "De3UsJwXdfMz",
    "outputId": "35af196e-e129-44e1-f2aa-2693d966743f"
   },
   "outputs": [
    {
     "name": "stdout",
     "output_type": "stream",
     "text": [
      "[[ 0.99720391 -0.57873591 -0.57380915 ...  0.64609167  0.97024255\n",
      "   0.02188649]\n",
      " [-1.00280393 -0.57873591  1.74273971 ... -1.54776799  0.97024255\n",
      "   0.21653375]\n",
      " [ 0.99720391 -0.57873591 -0.57380915 ...  0.64609167 -1.03067011\n",
      "   0.2406869 ]\n",
      " ...\n",
      " [ 0.99720391 -0.57873591 -0.57380915 ... -1.54776799  0.97024255\n",
      "  -1.00864308]\n",
      " [-1.00280393  1.72790383 -0.57380915 ...  0.64609167 -1.03067011\n",
      "  -0.12523071]\n",
      " [ 0.99720391 -0.57873591 -0.57380915 ...  0.64609167 -1.03067011\n",
      "  -1.07636976]]\n"
     ]
    }
   ],
   "source": [
    "print(X)"
   ]
  },
  {
   "cell_type": "markdown",
   "metadata": {
    "id": "vHol938cW8zd"
   },
   "source": [
    "### Splitting the dataset into the Training set and Test set"
   ]
  },
  {
   "cell_type": "code",
   "execution_count": 108,
   "metadata": {
    "id": "Z-TDt0Y_XEfc"
   },
   "outputs": [],
   "source": [
    "from sklearn.model_selection import train_test_split\n",
    "X_train, X_test, y_train, y_test = train_test_split(X, y, test_size = 0.2, random_state = 0)"
   ]
  },
  {
   "cell_type": "markdown",
   "metadata": {
    "id": "-zfEzkRVXIwF"
   },
   "source": [
    "## Part 2 - Building the ANN"
   ]
  },
  {
   "cell_type": "markdown",
   "metadata": {
    "id": "KvdeScabXtlB"
   },
   "source": [
    "### Initializing the ANN"
   ]
  },
  {
   "cell_type": "code",
   "execution_count": 164,
   "metadata": {
    "id": "3dtrScHxXQox"
   },
   "outputs": [],
   "source": [
    "ann = tf.keras.models.Sequential()"
   ]
  },
  {
   "cell_type": "markdown",
   "metadata": {
    "id": "rP6urV6SX7kS"
   },
   "source": [
    "### Adding the input layer and the first hidden layer"
   ]
  },
  {
   "cell_type": "code",
   "execution_count": 176,
   "metadata": {
    "id": "bppGycBXYCQr"
   },
   "outputs": [],
   "source": [
    "ann.add(tf.keras.layers.Dense(units=6, activation='relu'))"
   ]
  },
  {
   "cell_type": "markdown",
   "metadata": {
    "id": "BELWAc_8YJze"
   },
   "source": [
    "### Adding the second hidden layer"
   ]
  },
  {
   "cell_type": "code",
   "execution_count": 177,
   "metadata": {
    "id": "JneR0u0sYRTd"
   },
   "outputs": [],
   "source": [
    "ann.add(tf.keras.layers.Dense(units=6, activation='relu'))"
   ]
  },
  {
   "cell_type": "markdown",
   "metadata": {},
   "source": [
    "### Adding the third hidden layer"
   ]
  },
  {
   "cell_type": "code",
   "execution_count": 178,
   "metadata": {},
   "outputs": [],
   "source": [
    "# ann.add(tf.keras.layers.Dense(units=6, activation='relu'))"
   ]
  },
  {
   "cell_type": "markdown",
   "metadata": {
    "id": "OyNEe6RXYcU4"
   },
   "source": [
    "### Adding the output layer"
   ]
  },
  {
   "cell_type": "code",
   "execution_count": 179,
   "metadata": {
    "id": "Cn3x41RBYfvY"
   },
   "outputs": [],
   "source": [
    "ann.add(tf.keras.layers.Dense(units=1, activation='sigmoid'))"
   ]
  },
  {
   "cell_type": "markdown",
   "metadata": {
    "id": "JT4u2S1_Y4WG"
   },
   "source": [
    "## Training the ANN"
   ]
  },
  {
   "cell_type": "markdown",
   "metadata": {
    "id": "8GWlJChhY_ZI"
   },
   "source": [
    "### Compiling the ANN"
   ]
  },
  {
   "cell_type": "code",
   "execution_count": 180,
   "metadata": {
    "id": "fG3RrwDXZEaS"
   },
   "outputs": [],
   "source": [
    "ann.compile(optimizer = 'adam', loss = 'binary_crossentropy', metrics = ['acc'])"
   ]
  },
  {
   "cell_type": "markdown",
   "metadata": {
    "id": "0QR_G5u7ZLSM"
   },
   "source": [
    "### Training the ANN on the Training set"
   ]
  },
  {
   "cell_type": "code",
   "execution_count": 181,
   "metadata": {
    "colab": {
     "base_uri": "https://localhost:8080/"
    },
    "id": "nHZ-LKv_ZRb3",
    "outputId": "53cb157a-fc45-4bb1-aef5-ec3bb171ec2e"
   },
   "outputs": [
    {
     "name": "stdout",
     "output_type": "stream",
     "text": [
      "Train on 6400 samples, validate on 1600 samples\n",
      "Epoch 1/100\n",
      "6400/6400 [==============================] - 2s 333us/sample - loss: 0.5970 - acc: 0.8384 - val_loss: 0.5156 - val_acc: 0.8419\n",
      "Epoch 2/100\n",
      "6400/6400 [==============================] - 1s 130us/sample - loss: 0.4473 - acc: 0.8559 - val_loss: 0.4161 - val_acc: 0.8413\n",
      "Epoch 3/100\n",
      "6400/6400 [==============================] - 1s 133us/sample - loss: 0.3839 - acc: 0.8586 - val_loss: 0.3843 - val_acc: 0.8462\n",
      "Epoch 4/100\n",
      "6400/6400 [==============================] - 1s 128us/sample - loss: 0.3632 - acc: 0.8537 - val_loss: 0.3763 - val_acc: 0.8444\n",
      "Epoch 5/100\n",
      "6400/6400 [==============================] - 1s 107us/sample - loss: 0.3544 - acc: 0.8577 - val_loss: 0.3755 - val_acc: 0.8438\n",
      "Epoch 6/100\n",
      "6400/6400 [==============================] - 1s 104us/sample - loss: 0.3515 - acc: 0.8577 - val_loss: 0.3695 - val_acc: 0.8450\n",
      "Epoch 7/100\n",
      "6400/6400 [==============================] - 1s 103us/sample - loss: 0.3486 - acc: 0.8578 - val_loss: 0.3696 - val_acc: 0.8431\n",
      "Epoch 8/100\n",
      "6400/6400 [==============================] - 1s 108us/sample - loss: 0.3461 - acc: 0.8556 - val_loss: 0.3709 - val_acc: 0.8406\n",
      "Epoch 9/100\n",
      "6400/6400 [==============================] - 1s 107us/sample - loss: 0.3449 - acc: 0.8592 - val_loss: 0.3687 - val_acc: 0.8444\n",
      "Epoch 10/100\n",
      "6400/6400 [==============================] - 1s 121us/sample - loss: 0.3445 - acc: 0.8566 - val_loss: 0.3701 - val_acc: 0.8475\n",
      "Epoch 11/100\n",
      "6400/6400 [==============================] - 1s 105us/sample - loss: 0.3443 - acc: 0.8570 - val_loss: 0.3683 - val_acc: 0.8475\n",
      "Epoch 12/100\n",
      "6400/6400 [==============================] - 1s 111us/sample - loss: 0.3441 - acc: 0.8583 - val_loss: 0.3671 - val_acc: 0.8450\n",
      "Epoch 13/100\n",
      "6400/6400 [==============================] - 1s 121us/sample - loss: 0.3432 - acc: 0.8572 - val_loss: 0.3658 - val_acc: 0.8469\n",
      "Epoch 14/100\n",
      "6400/6400 [==============================] - 1s 131us/sample - loss: 0.3420 - acc: 0.8595 - val_loss: 0.3664 - val_acc: 0.8494\n",
      "Epoch 15/100\n",
      "6400/6400 [==============================] - 1s 138us/sample - loss: 0.3414 - acc: 0.8578 - val_loss: 0.3641 - val_acc: 0.8487\n",
      "Epoch 16/100\n",
      "6400/6400 [==============================] - 1s 136us/sample - loss: 0.3415 - acc: 0.8591 - val_loss: 0.3639 - val_acc: 0.8487\n",
      "Epoch 17/100\n",
      "6400/6400 [==============================] - 1s 136us/sample - loss: 0.3414 - acc: 0.8556 - val_loss: 0.3671 - val_acc: 0.8494\n",
      "Epoch 18/100\n",
      "6400/6400 [==============================] - 1s 143us/sample - loss: 0.3382 - acc: 0.8598 - val_loss: 0.3639 - val_acc: 0.8475\n",
      "Epoch 19/100\n",
      "6400/6400 [==============================] - 1s 126us/sample - loss: 0.3397 - acc: 0.8578 - val_loss: 0.3640 - val_acc: 0.8500\n",
      "Epoch 20/100\n",
      "6400/6400 [==============================] - 1s 126us/sample - loss: 0.3390 - acc: 0.8580 - val_loss: 0.3680 - val_acc: 0.8425\n",
      "Epoch 21/100\n",
      "6400/6400 [==============================] - 1s 127us/sample - loss: 0.3406 - acc: 0.8555 - val_loss: 0.3621 - val_acc: 0.8525\n",
      "Epoch 22/100\n",
      "6400/6400 [==============================] - 1s 144us/sample - loss: 0.3396 - acc: 0.8575 - val_loss: 0.3601 - val_acc: 0.8569\n",
      "Epoch 23/100\n",
      "6400/6400 [==============================] - 1s 157us/sample - loss: 0.3391 - acc: 0.8595 - val_loss: 0.3598 - val_acc: 0.8544\n",
      "Epoch 24/100\n",
      "6400/6400 [==============================] - 1s 137us/sample - loss: 0.3392 - acc: 0.8597 - val_loss: 0.3634 - val_acc: 0.8506\n",
      "Epoch 25/100\n",
      "6400/6400 [==============================] - 1s 127us/sample - loss: 0.3390 - acc: 0.8608 - val_loss: 0.3620 - val_acc: 0.8481\n",
      "Epoch 26/100\n",
      "6400/6400 [==============================] - 1s 135us/sample - loss: 0.3378 - acc: 0.8581 - val_loss: 0.3630 - val_acc: 0.8512\n",
      "Epoch 27/100\n",
      "6400/6400 [==============================] - 1s 133us/sample - loss: 0.3386 - acc: 0.8597 - val_loss: 0.3600 - val_acc: 0.8525\n",
      "Epoch 28/100\n",
      "6400/6400 [==============================] - 1s 130us/sample - loss: 0.3377 - acc: 0.8595 - val_loss: 0.3613 - val_acc: 0.8506\n",
      "Epoch 29/100\n",
      "6400/6400 [==============================] - 1s 139us/sample - loss: 0.3387 - acc: 0.8595 - val_loss: 0.3669 - val_acc: 0.8481\n",
      "Epoch 30/100\n",
      "6400/6400 [==============================] - 1s 139us/sample - loss: 0.3376 - acc: 0.8602 - val_loss: 0.3579 - val_acc: 0.8512\n",
      "Epoch 31/100\n",
      "6400/6400 [==============================] - 1s 136us/sample - loss: 0.3373 - acc: 0.8594 - val_loss: 0.3587 - val_acc: 0.8500\n",
      "Epoch 32/100\n",
      "6400/6400 [==============================] - 1s 124us/sample - loss: 0.3374 - acc: 0.8603 - val_loss: 0.3597 - val_acc: 0.8544\n",
      "Epoch 33/100\n",
      "6400/6400 [==============================] - 1s 162us/sample - loss: 0.3368 - acc: 0.8594 - val_loss: 0.3603 - val_acc: 0.8556\n",
      "Epoch 34/100\n",
      "6400/6400 [==============================] - 1s 100us/sample - loss: 0.3382 - acc: 0.8605 - val_loss: 0.3577 - val_acc: 0.8531\n",
      "Epoch 35/100\n",
      "6400/6400 [==============================] - 1s 103us/sample - loss: 0.3362 - acc: 0.8634 - val_loss: 0.3572 - val_acc: 0.8550\n",
      "Epoch 36/100\n",
      "6400/6400 [==============================] - 1s 114us/sample - loss: 0.3376 - acc: 0.8595 - val_loss: 0.3595 - val_acc: 0.8506\n",
      "Epoch 37/100\n",
      "6400/6400 [==============================] - 1s 155us/sample - loss: 0.3369 - acc: 0.8595 - val_loss: 0.3579 - val_acc: 0.8519\n",
      "Epoch 38/100\n",
      "6400/6400 [==============================] - 1s 112us/sample - loss: 0.3393 - acc: 0.8578 - val_loss: 0.3601 - val_acc: 0.8519\n",
      "Epoch 39/100\n",
      "6400/6400 [==============================] - 1s 102us/sample - loss: 0.3348 - acc: 0.8623 - val_loss: 0.3592 - val_acc: 0.8519\n",
      "Epoch 40/100\n",
      "6400/6400 [==============================] - 1s 125us/sample - loss: 0.3378 - acc: 0.8586 - val_loss: 0.3589 - val_acc: 0.8519\n",
      "Epoch 41/100\n",
      "6400/6400 [==============================] - 1s 116us/sample - loss: 0.3345 - acc: 0.8619 - val_loss: 0.3577 - val_acc: 0.8537\n",
      "Epoch 42/100\n",
      "6400/6400 [==============================] - 1s 122us/sample - loss: 0.3374 - acc: 0.8614 - val_loss: 0.3585 - val_acc: 0.8537\n",
      "Epoch 43/100\n",
      "6400/6400 [==============================] - 1s 127us/sample - loss: 0.3360 - acc: 0.8617 - val_loss: 0.3591 - val_acc: 0.8519\n",
      "Epoch 44/100\n",
      "6400/6400 [==============================] - 1s 113us/sample - loss: 0.3371 - acc: 0.8605 - val_loss: 0.3574 - val_acc: 0.8525\n",
      "Epoch 45/100\n",
      "6400/6400 [==============================] - 1s 126us/sample - loss: 0.3349 - acc: 0.8623 - val_loss: 0.3633 - val_acc: 0.8512\n",
      "Epoch 46/100\n",
      "6400/6400 [==============================] - 1s 111us/sample - loss: 0.3360 - acc: 0.8609 - val_loss: 0.3664 - val_acc: 0.8531\n",
      "Epoch 47/100\n",
      "6400/6400 [==============================] - 1s 116us/sample - loss: 0.3358 - acc: 0.8608 - val_loss: 0.3593 - val_acc: 0.8531\n",
      "Epoch 48/100\n",
      "6400/6400 [==============================] - 1s 152us/sample - loss: 0.3350 - acc: 0.8603 - val_loss: 0.3567 - val_acc: 0.8562\n",
      "Epoch 49/100\n",
      "6400/6400 [==============================] - 1s 137us/sample - loss: 0.3361 - acc: 0.8627 - val_loss: 0.3572 - val_acc: 0.8531\n",
      "Epoch 50/100\n",
      "6400/6400 [==============================] - 1s 148us/sample - loss: 0.3350 - acc: 0.8605 - val_loss: 0.3571 - val_acc: 0.8537\n",
      "Epoch 51/100\n",
      "6400/6400 [==============================] - 1s 154us/sample - loss: 0.3358 - acc: 0.8592 - val_loss: 0.3583 - val_acc: 0.8506\n",
      "Epoch 52/100\n",
      "6400/6400 [==============================] - 1s 144us/sample - loss: 0.3365 - acc: 0.8616 - val_loss: 0.3566 - val_acc: 0.8531\n",
      "Epoch 53/100\n",
      "6400/6400 [==============================] - 1s 149us/sample - loss: 0.3360 - acc: 0.8617 - val_loss: 0.3555 - val_acc: 0.8531\n",
      "Epoch 54/100\n",
      "6400/6400 [==============================] - 1s 141us/sample - loss: 0.3354 - acc: 0.8625 - val_loss: 0.3571 - val_acc: 0.8519\n",
      "Epoch 55/100\n",
      "6400/6400 [==============================] - 1s 153us/sample - loss: 0.3365 - acc: 0.8605 - val_loss: 0.3551 - val_acc: 0.8506\n",
      "Epoch 56/100\n",
      "6400/6400 [==============================] - 1s 137us/sample - loss: 0.3353 - acc: 0.8616 - val_loss: 0.3565 - val_acc: 0.8544\n",
      "Epoch 57/100\n",
      "6400/6400 [==============================] - 1s 144us/sample - loss: 0.3341 - acc: 0.8600 - val_loss: 0.3549 - val_acc: 0.8556\n",
      "Epoch 58/100\n",
      "6400/6400 [==============================] - 1s 139us/sample - loss: 0.3348 - acc: 0.8628 - val_loss: 0.3589 - val_acc: 0.8506\n",
      "Epoch 59/100\n"
     ]
    },
    {
     "name": "stdout",
     "output_type": "stream",
     "text": [
      "6400/6400 [==============================] - 1s 141us/sample - loss: 0.3338 - acc: 0.8609 - val_loss: 0.3559 - val_acc: 0.8537\n",
      "Epoch 60/100\n",
      "6400/6400 [==============================] - 1s 148us/sample - loss: 0.3356 - acc: 0.8594 - val_loss: 0.3592 - val_acc: 0.8562\n",
      "Epoch 61/100\n",
      "6400/6400 [==============================] - 1s 134us/sample - loss: 0.3339 - acc: 0.8619 - val_loss: 0.3589 - val_acc: 0.8487\n",
      "Epoch 62/100\n",
      "6400/6400 [==============================] - 1s 134us/sample - loss: 0.3357 - acc: 0.8605 - val_loss: 0.3552 - val_acc: 0.8494\n",
      "Epoch 63/100\n",
      "6400/6400 [==============================] - 1s 155us/sample - loss: 0.3339 - acc: 0.8605 - val_loss: 0.3656 - val_acc: 0.8481\n",
      "Epoch 64/100\n",
      "6400/6400 [==============================] - 1s 139us/sample - loss: 0.3339 - acc: 0.8609 - val_loss: 0.3569 - val_acc: 0.8550\n",
      "Epoch 65/100\n",
      "6400/6400 [==============================] - 1s 139us/sample - loss: 0.3352 - acc: 0.8612 - val_loss: 0.3597 - val_acc: 0.8512\n",
      "Epoch 66/100\n",
      "6400/6400 [==============================] - 1s 146us/sample - loss: 0.3353 - acc: 0.8622 - val_loss: 0.3528 - val_acc: 0.8550\n",
      "Epoch 67/100\n",
      "6400/6400 [==============================] - 1s 181us/sample - loss: 0.3337 - acc: 0.8611 - val_loss: 0.3588 - val_acc: 0.8506\n",
      "Epoch 68/100\n",
      "6400/6400 [==============================] - 1s 135us/sample - loss: 0.3343 - acc: 0.8612 - val_loss: 0.3532 - val_acc: 0.8550\n",
      "Epoch 69/100\n",
      "6400/6400 [==============================] - 1s 128us/sample - loss: 0.3339 - acc: 0.8620 - val_loss: 0.3677 - val_acc: 0.8525\n",
      "Epoch 70/100\n",
      "6400/6400 [==============================] - 1s 135us/sample - loss: 0.3344 - acc: 0.8630 - val_loss: 0.3556 - val_acc: 0.8500\n",
      "Epoch 71/100\n",
      "6400/6400 [==============================] - 1s 135us/sample - loss: 0.3338 - acc: 0.8650 - val_loss: 0.3604 - val_acc: 0.8462\n",
      "Epoch 72/100\n",
      "6400/6400 [==============================] - 1s 131us/sample - loss: 0.3339 - acc: 0.8620 - val_loss: 0.3587 - val_acc: 0.8587\n",
      "Epoch 73/100\n",
      "6400/6400 [==============================] - 1s 168us/sample - loss: 0.3345 - acc: 0.8612 - val_loss: 0.3515 - val_acc: 0.8531\n",
      "Epoch 74/100\n",
      "6400/6400 [==============================] - 1s 150us/sample - loss: 0.3337 - acc: 0.8630 - val_loss: 0.3516 - val_acc: 0.8531\n",
      "Epoch 75/100\n",
      "6400/6400 [==============================] - 1s 186us/sample - loss: 0.3342 - acc: 0.8636 - val_loss: 0.3523 - val_acc: 0.8537\n",
      "Epoch 76/100\n",
      "6400/6400 [==============================] - 1s 146us/sample - loss: 0.3336 - acc: 0.8630 - val_loss: 0.3538 - val_acc: 0.8500\n",
      "Epoch 77/100\n",
      "6400/6400 [==============================] - 1s 145us/sample - loss: 0.3344 - acc: 0.8603 - val_loss: 0.3607 - val_acc: 0.8550\n",
      "Epoch 78/100\n",
      "6400/6400 [==============================] - 1s 145us/sample - loss: 0.3340 - acc: 0.8616 - val_loss: 0.3532 - val_acc: 0.8537\n",
      "Epoch 79/100\n",
      "6400/6400 [==============================] - 1s 178us/sample - loss: 0.3342 - acc: 0.8620 - val_loss: 0.3547 - val_acc: 0.8556\n",
      "Epoch 80/100\n",
      "6400/6400 [==============================] - 1s 158us/sample - loss: 0.3346 - acc: 0.8627 - val_loss: 0.3563 - val_acc: 0.8581\n",
      "Epoch 81/100\n",
      "6400/6400 [==============================] - 1s 152us/sample - loss: 0.3338 - acc: 0.8609 - val_loss: 0.3553 - val_acc: 0.8525\n",
      "Epoch 82/100\n",
      "6400/6400 [==============================] - 1s 163us/sample - loss: 0.3345 - acc: 0.8605 - val_loss: 0.3576 - val_acc: 0.8512\n",
      "Epoch 83/100\n",
      "6400/6400 [==============================] - 1s 153us/sample - loss: 0.3344 - acc: 0.8630 - val_loss: 0.3702 - val_acc: 0.8394\n",
      "Epoch 84/100\n",
      "6400/6400 [==============================] - 1s 138us/sample - loss: 0.3344 - acc: 0.8636 - val_loss: 0.3543 - val_acc: 0.8550\n",
      "Epoch 85/100\n",
      "6400/6400 [==============================] - 1s 135us/sample - loss: 0.3344 - acc: 0.8628 - val_loss: 0.3545 - val_acc: 0.8544\n",
      "Epoch 86/100\n",
      "6400/6400 [==============================] - 1s 141us/sample - loss: 0.3350 - acc: 0.8631 - val_loss: 0.3563 - val_acc: 0.8562\n",
      "Epoch 87/100\n",
      "6400/6400 [==============================] - 1s 138us/sample - loss: 0.3340 - acc: 0.8617 - val_loss: 0.3545 - val_acc: 0.8537\n",
      "Epoch 88/100\n",
      "6400/6400 [==============================] - 1s 153us/sample - loss: 0.3335 - acc: 0.8603 - val_loss: 0.3558 - val_acc: 0.8594\n",
      "Epoch 89/100\n",
      "6400/6400 [==============================] - 1s 139us/sample - loss: 0.3344 - acc: 0.8620 - val_loss: 0.3651 - val_acc: 0.8450\n",
      "Epoch 90/100\n",
      "6400/6400 [==============================] - 1s 151us/sample - loss: 0.3348 - acc: 0.8625 - val_loss: 0.3516 - val_acc: 0.8537\n",
      "Epoch 91/100\n",
      "6400/6400 [==============================] - 1s 137us/sample - loss: 0.3330 - acc: 0.8630 - val_loss: 0.3530 - val_acc: 0.8531\n",
      "Epoch 92/100\n",
      "6400/6400 [==============================] - 1s 133us/sample - loss: 0.3330 - acc: 0.8631 - val_loss: 0.3679 - val_acc: 0.8544\n",
      "Epoch 93/100\n",
      "6400/6400 [==============================] - 1s 149us/sample - loss: 0.3333 - acc: 0.8627 - val_loss: 0.3539 - val_acc: 0.8519\n",
      "Epoch 94/100\n",
      "6400/6400 [==============================] - 1s 173us/sample - loss: 0.3338 - acc: 0.8631 - val_loss: 0.3596 - val_acc: 0.8556\n",
      "Epoch 95/100\n",
      "6400/6400 [==============================] - 1s 150us/sample - loss: 0.3346 - acc: 0.8602 - val_loss: 0.3533 - val_acc: 0.8550\n",
      "Epoch 96/100\n",
      "6400/6400 [==============================] - 1s 156us/sample - loss: 0.3354 - acc: 0.8625 - val_loss: 0.3511 - val_acc: 0.8556\n",
      "Epoch 97/100\n",
      "6400/6400 [==============================] - 1s 137us/sample - loss: 0.3339 - acc: 0.8608 - val_loss: 0.3511 - val_acc: 0.8525\n",
      "Epoch 98/100\n",
      "6400/6400 [==============================] - 1s 165us/sample - loss: 0.3331 - acc: 0.8648 - val_loss: 0.3542 - val_acc: 0.8531\n",
      "Epoch 99/100\n",
      "6400/6400 [==============================] - 1s 168us/sample - loss: 0.3339 - acc: 0.8620 - val_loss: 0.3525 - val_acc: 0.8537\n",
      "Epoch 100/100\n",
      "6400/6400 [==============================] - 1s 153us/sample - loss: 0.3352 - acc: 0.8608 - val_loss: 0.3504 - val_acc: 0.8550\n"
     ]
    }
   ],
   "source": [
    "history = ann.fit(X_train, y_train, batch_size =16, epochs = 100, validation_split=0.2)"
   ]
  },
  {
   "cell_type": "code",
   "execution_count": 184,
   "metadata": {},
   "outputs": [
    {
     "data": {
      "image/png": "[encoded data removed]",
      "text/plain": [
       "<Figure size 432x288 with 1 Axes>"
      ]
     },
     "metadata": {
      "needs_background": "light"
     },
     "output_type": "display_data"
    },
    {
     "data": {
      "image/png": "[encoded data removed]",
      "text/plain": [
       "<Figure size 432x288 with 1 Axes>"
      ]
     },
     "metadata": {
      "needs_background": "light"
     },
     "output_type": "display_data"
    }
   ],
   "source": [
    "import matplotlib.pyplot as plt\n",
    "\n",
    "plt.plot(history.history['acc'])\n",
    "plt.plot(history.history['val_acc'])\n",
    "\n",
    "plt.title('model accuracy')\n",
    "plt.ylabel('accuracy')\n",
    "plt.xlabel('epoch')\n",
    "plt.legend(['train','test'], loc='upper left')\n",
    "plt.show()\n",
    "\n",
    "plt.plot(history.history['loss'])\n",
    "plt.plot(history.history['val_loss'])\n",
    "\n",
    "plt.title('model loss')\n",
    "plt.ylabel('loss')\n",
    "plt.xlabel('epoch')\n",
    "plt.legend(['train','test'], loc='upper left')\n",
    "plt.show()"
   ]
  },
  {
   "cell_type": "markdown",
   "metadata": {
    "id": "tJj5k2MxZga3"
   },
   "source": [
    "## Part 4 - Making the predictions and evaluating the model"
   ]
  },
  {
   "cell_type": "markdown",
   "metadata": {
    "id": "u7yx47jPZt11"
   },
   "source": [
    "### Predicting the Test set results"
   ]
  },
  {
   "cell_type": "code",
   "execution_count": 185,
   "metadata": {
    "colab": {
     "base_uri": "https://localhost:8080/"
    },
    "id": "nIyEeQdRZwgs",
    "outputId": "605364f3-78e8-49a9-9097-229d924ac5d4"
   },
   "outputs": [
    {
     "name": "stdout",
     "output_type": "stream",
     "text": [
      "[[0 0]\n",
      " [0 1]\n",
      " [0 0]\n",
      " ...\n",
      " [0 0]\n",
      " [0 0]\n",
      " [0 0]]\n"
     ]
    }
   ],
   "source": [
    "y_pred = ann.predict(X_test)\n",
    "y_pred = (y_pred > 0.5)\n",
    "print(np.concatenate((y_pred.reshape(len(y_pred),1), y_test.reshape(len(y_test),1)),1))"
   ]
  },
  {
   "cell_type": "markdown",
   "metadata": {
    "id": "o0oyfLWoaEGw"
   },
   "source": [
    "### Making the Confusion Matrix"
   ]
  },
  {
   "cell_type": "code",
   "execution_count": 186,
   "metadata": {
    "colab": {
     "base_uri": "https://localhost:8080/"
    },
    "id": "ci6K_r6LaF6P",
    "outputId": "d51d58ad-3f58-49b5-8de5-9f46d39ee230"
   },
   "outputs": [
    {
     "name": "stdout",
     "output_type": "stream",
     "text": [
      "[[1508   87]\n",
      " [ 179  226]]\n"
     ]
    }
   ],
   "source": [
    "from sklearn.metrics import confusion_matrix\n",
    "cm = confusion_matrix(y_test, y_pred)\n",
    "print(cm)"
   ]
  },
  {
   "cell_type": "markdown",
   "metadata": {
    "id": "H9QCWhjmHx4d"
   },
   "source": [
    "Use our ANN model to predict if the customer with the following informations will leave the bank\n",
    "\n",
    "Geography:France\n",
    "\n",
    "Credit Score : 600\n",
    "\n",
    "Gender:Male\n",
    "\n",
    "Age:40 years old\n",
    "\n",
    "Tenure:3years\n",
    "\n",
    "Balance:$60000\n",
    "\n",
    "Number of Products:2\n",
    "\n",
    "Does this customer haveacredit card? Yes\n",
    "\n",
    "Is this customer an Active Member : Yes\n",
    "\n",
    "Estimated Salary:$50000\n",
    "\n",
    "So,should we say goodbye to that customer?"
   ]
  },
  {
   "cell_type": "code",
   "execution_count": 187,
   "metadata": {
    "colab": {
     "base_uri": "https://localhost:8080/"
    },
    "id": "w71BA4t9Hqsj",
    "outputId": "b2a18569-aa86-4075-e16a-25de45f6a20b"
   },
   "outputs": [
    {
     "name": "stdout",
     "output_type": "stream",
     "text": [
      "[[False]]\n"
     ]
    }
   ],
   "source": [
    "print(ann.predict(sc.transform([[1,0,0,600,1,40,3,60000,2,1,1,50000]]))>0.5)"
   ]
  },
  {
   "cell_type": "code",
   "execution_count": 188,
   "metadata": {},
   "outputs": [
    {
     "name": "stdout",
     "output_type": "stream",
     "text": [
      "accuracy: 0.867 or 86.70%\n"
     ]
    }
   ],
   "source": [
    "from sklearn.metrics import accuracy_score\n",
    "accuracy = accuracy_score(y_test, y_pred)\n",
    "print(f\"accuracy: {accuracy} or {accuracy * 100:.2f}%\")"
   ]
  },
  {
   "cell_type": "code",
   "execution_count": null,
   "metadata": {},
   "outputs": [],
   "source": []
  }
 ],
 "metadata": {
  "colab": {
   "collapsed_sections": [],
   "name": "artificial_neural_network.ipynb",
   "provenance": []
  },
  "kernelspec": {
   "display_name": "Python 3",
   "language": "python",
   "name": "python3"
  },
  "language_info": {
   "codemirror_mode": {
    "name": "ipython",
    "version": 3
   },
   "file_extension": ".py",
   "mimetype": "text/x-python",
   "name": "python",
   "nbconvert_exporter": "python",
   "pygments_lexer": "ipython3",
   "version": "3.7.6"
  }
 },
 "nbformat": 4,
 "nbformat_minor": 1
}
