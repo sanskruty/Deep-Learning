{
 "cells": [
  {
   "cell_type": "markdown",
   "metadata": {},
   "source": [
    "# Word2Vec Application on creating a Chatbot using Gensim"
   ]
  },
  {
   "cell_type": "code",
   "execution_count": 1,
   "metadata": {},
   "outputs": [
    {
     "data": {
      "text/plain": [
       "[{'tag': 'welcome',\n",
       "  'patterns': ['Hi',\n",
       "   'How are you',\n",
       "   'Is any one to talk?',\n",
       "   'Hello',\n",
       "   'hi are you available'],\n",
       "  'responses': ['Hello, thanks for contacting us',\n",
       "   'Good to see you here',\n",
       "   ' Hi there, how may I assist you?']},\n",
       " {'tag': 'goodbye',\n",
       "  'patterns': ['Bye', 'See you later', 'Goodbye', 'I will come back soon'],\n",
       "  'responses': ['See you later, thanks for visiting',\n",
       "   'have a great day ahead',\n",
       "   'Wish you Come back again soon.']},\n",
       " {'tag': 'thankful',\n",
       "  'patterns': ['Thanks for helping me',\n",
       "   'Thank your guidance',\n",
       "   \"That's helpful and kind from you\"],\n",
       "  'responses': ['Happy to help!',\n",
       "   'Any time!',\n",
       "   'My pleasure',\n",
       "   'It is my duty to help you']},\n",
       " {'tag': 'hoursopening',\n",
       "  'patterns': ['What hours are you open?',\n",
       "   'Tell your opening time?',\n",
       "   'When are you open?',\n",
       "   'Just your timing please'],\n",
       "  'responses': [\"We're open every day 8am-7pm\",\n",
       "   'Our office hours are 8am-7pm every day',\n",
       "   'We open office at 8 am and close at 7 pm']},\n",
       " {'tag': 'payments',\n",
       "  'patterns': ['Can I pay using credit card?',\n",
       "   ' Can I pay using Mastercard?',\n",
       "   ' Can I pay using cash only?'],\n",
       "  'responses': ['We accept VISA, Mastercard and credit card',\n",
       "   'We accept credit card, debit cards and cash. Please don’t worry']}]"
      ]
     },
     "execution_count": 1,
     "metadata": {},
     "output_type": "execute_result"
    }
   ],
   "source": [
    "import json\n",
    "json_file = 'intents.json'\n",
    "with open('intents.json','r') as f:\n",
    "    data = json.load(f)\n",
    "\n",
    "data"
   ]
  },
  {
   "cell_type": "code",
   "execution_count": 2,
   "metadata": {},
   "outputs": [
    {
     "data": {
      "text/html": [
       "<div>\n",
       "<style scoped>\n",
       "    .dataframe tbody tr th:only-of-type {\n",
       "        vertical-align: middle;\n",
       "    }\n",
       "\n",
       "    .dataframe tbody tr th {\n",
       "        vertical-align: top;\n",
       "    }\n",
       "\n",
       "    .dataframe thead th {\n",
       "        text-align: right;\n",
       "    }\n",
       "</style>\n",
       "<table border=\"1\" class=\"dataframe\">\n",
       "  <thead>\n",
       "    <tr style=\"text-align: right;\">\n",
       "      <th></th>\n",
       "      <th>tag</th>\n",
       "      <th>patterns</th>\n",
       "      <th>responses</th>\n",
       "    </tr>\n",
       "  </thead>\n",
       "  <tbody>\n",
       "    <tr>\n",
       "      <th>0</th>\n",
       "      <td>welcome</td>\n",
       "      <td>[Hi, How are you, Is any one to talk?, Hello, ...</td>\n",
       "      <td>[Hello, thanks for contacting us, Good to see ...</td>\n",
       "    </tr>\n",
       "    <tr>\n",
       "      <th>1</th>\n",
       "      <td>goodbye</td>\n",
       "      <td>[Bye, See you later, Goodbye, I will come back...</td>\n",
       "      <td>[See you later, thanks for visiting, have a gr...</td>\n",
       "    </tr>\n",
       "    <tr>\n",
       "      <th>2</th>\n",
       "      <td>thankful</td>\n",
       "      <td>[Thanks for helping me, Thank your guidance, T...</td>\n",
       "      <td>[Happy to help!, Any time!, My pleasure, It is...</td>\n",
       "    </tr>\n",
       "    <tr>\n",
       "      <th>3</th>\n",
       "      <td>hoursopening</td>\n",
       "      <td>[What hours are you open?, Tell your opening t...</td>\n",
       "      <td>[We're open every day 8am-7pm, Our office hour...</td>\n",
       "    </tr>\n",
       "    <tr>\n",
       "      <th>4</th>\n",
       "      <td>payments</td>\n",
       "      <td>[Can I pay using credit card?,  Can I pay usin...</td>\n",
       "      <td>[We accept VISA, Mastercard and credit card, W...</td>\n",
       "    </tr>\n",
       "  </tbody>\n",
       "</table>\n",
       "</div>"
      ],
      "text/plain": [
       "            tag                                           patterns  \\\n",
       "0       welcome  [Hi, How are you, Is any one to talk?, Hello, ...   \n",
       "1       goodbye  [Bye, See you later, Goodbye, I will come back...   \n",
       "2      thankful  [Thanks for helping me, Thank your guidance, T...   \n",
       "3  hoursopening  [What hours are you open?, Tell your opening t...   \n",
       "4      payments  [Can I pay using credit card?,  Can I pay usin...   \n",
       "\n",
       "                                           responses  \n",
       "0  [Hello, thanks for contacting us, Good to see ...  \n",
       "1  [See you later, thanks for visiting, have a gr...  \n",
       "2  [Happy to help!, Any time!, My pleasure, It is...  \n",
       "3  [We're open every day 8am-7pm, Our office hour...  \n",
       "4  [We accept VISA, Mastercard and credit card, W...  "
      ]
     },
     "execution_count": 2,
     "metadata": {},
     "output_type": "execute_result"
    }
   ],
   "source": [
    "import pandas as pd\n",
    "df = pd.DataFrame(data)\n",
    "\n",
    "df"
   ]
  },
  {
   "cell_type": "code",
   "execution_count": 3,
   "metadata": {},
   "outputs": [
    {
     "data": {
      "text/html": [
       "<div>\n",
       "<style scoped>\n",
       "    .dataframe tbody tr th:only-of-type {\n",
       "        vertical-align: middle;\n",
       "    }\n",
       "\n",
       "    .dataframe tbody tr th {\n",
       "        vertical-align: top;\n",
       "    }\n",
       "\n",
       "    .dataframe thead th {\n",
       "        text-align: right;\n",
       "    }\n",
       "</style>\n",
       "<table border=\"1\" class=\"dataframe\">\n",
       "  <thead>\n",
       "    <tr style=\"text-align: right;\">\n",
       "      <th></th>\n",
       "      <th>tag</th>\n",
       "      <th>patterns</th>\n",
       "      <th>responses</th>\n",
       "    </tr>\n",
       "  </thead>\n",
       "  <tbody>\n",
       "    <tr>\n",
       "      <th>0</th>\n",
       "      <td>welcome</td>\n",
       "      <td>Hi, How are you, Is any one to talk?, Hello, h...</td>\n",
       "      <td>[Hello, thanks for contacting us, Good to see ...</td>\n",
       "    </tr>\n",
       "    <tr>\n",
       "      <th>1</th>\n",
       "      <td>goodbye</td>\n",
       "      <td>Bye, See you later, Goodbye, I will come back ...</td>\n",
       "      <td>[See you later, thanks for visiting, have a gr...</td>\n",
       "    </tr>\n",
       "    <tr>\n",
       "      <th>2</th>\n",
       "      <td>thankful</td>\n",
       "      <td>Thanks for helping me, Thank your guidance, Th...</td>\n",
       "      <td>[Happy to help!, Any time!, My pleasure, It is...</td>\n",
       "    </tr>\n",
       "    <tr>\n",
       "      <th>3</th>\n",
       "      <td>hoursopening</td>\n",
       "      <td>What hours are you open?, Tell your opening ti...</td>\n",
       "      <td>[We're open every day 8am-7pm, Our office hour...</td>\n",
       "    </tr>\n",
       "    <tr>\n",
       "      <th>4</th>\n",
       "      <td>payments</td>\n",
       "      <td>Can I pay using credit card?,  Can I pay using...</td>\n",
       "      <td>[We accept VISA, Mastercard and credit card, W...</td>\n",
       "    </tr>\n",
       "  </tbody>\n",
       "</table>\n",
       "</div>"
      ],
      "text/plain": [
       "            tag                                           patterns  \\\n",
       "0       welcome  Hi, How are you, Is any one to talk?, Hello, h...   \n",
       "1       goodbye  Bye, See you later, Goodbye, I will come back ...   \n",
       "2      thankful  Thanks for helping me, Thank your guidance, Th...   \n",
       "3  hoursopening  What hours are you open?, Tell your opening ti...   \n",
       "4      payments  Can I pay using credit card?,  Can I pay using...   \n",
       "\n",
       "                                           responses  \n",
       "0  [Hello, thanks for contacting us, Good to see ...  \n",
       "1  [See you later, thanks for visiting, have a gr...  \n",
       "2  [Happy to help!, Any time!, My pleasure, It is...  \n",
       "3  [We're open every day 8am-7pm, Our office hour...  \n",
       "4  [We accept VISA, Mastercard and credit card, W...  "
      ]
     },
     "execution_count": 3,
     "metadata": {},
     "output_type": "execute_result"
    }
   ],
   "source": [
    "df['patterns'] = df['patterns'].apply(', '.join)\n",
    "df"
   ]
  },
  {
   "cell_type": "code",
   "execution_count": 4,
   "metadata": {},
   "outputs": [
    {
     "data": {
      "text/html": [
       "<div>\n",
       "<style scoped>\n",
       "    .dataframe tbody tr th:only-of-type {\n",
       "        vertical-align: middle;\n",
       "    }\n",
       "\n",
       "    .dataframe tbody tr th {\n",
       "        vertical-align: top;\n",
       "    }\n",
       "\n",
       "    .dataframe thead th {\n",
       "        text-align: right;\n",
       "    }\n",
       "</style>\n",
       "<table border=\"1\" class=\"dataframe\">\n",
       "  <thead>\n",
       "    <tr style=\"text-align: right;\">\n",
       "      <th></th>\n",
       "      <th>tag</th>\n",
       "      <th>patterns</th>\n",
       "      <th>responses</th>\n",
       "    </tr>\n",
       "  </thead>\n",
       "  <tbody>\n",
       "    <tr>\n",
       "      <th>0</th>\n",
       "      <td>welcome</td>\n",
       "      <td>hi one talk hello hi available</td>\n",
       "      <td>[Hello, thanks for contacting us, Good to see ...</td>\n",
       "    </tr>\n",
       "    <tr>\n",
       "      <th>1</th>\n",
       "      <td>goodbye</td>\n",
       "      <td>bye see later goodbye come back soon</td>\n",
       "      <td>[See you later, thanks for visiting, have a gr...</td>\n",
       "    </tr>\n",
       "    <tr>\n",
       "      <th>2</th>\n",
       "      <td>thankful</td>\n",
       "      <td>thanks helping thank guidance thats helpful kind</td>\n",
       "      <td>[Happy to help!, Any time!, My pleasure, It is...</td>\n",
       "    </tr>\n",
       "    <tr>\n",
       "      <th>3</th>\n",
       "      <td>hoursopening</td>\n",
       "      <td>hour open tell opening time open timing please</td>\n",
       "      <td>[We're open every day 8am-7pm, Our office hour...</td>\n",
       "    </tr>\n",
       "    <tr>\n",
       "      <th>4</th>\n",
       "      <td>payments</td>\n",
       "      <td>pay using credit card pay using mastercard pay...</td>\n",
       "      <td>[We accept VISA, Mastercard and credit card, W...</td>\n",
       "    </tr>\n",
       "  </tbody>\n",
       "</table>\n",
       "</div>"
      ],
      "text/plain": [
       "            tag                                           patterns  \\\n",
       "0       welcome                     hi one talk hello hi available   \n",
       "1       goodbye               bye see later goodbye come back soon   \n",
       "2      thankful   thanks helping thank guidance thats helpful kind   \n",
       "3  hoursopening     hour open tell opening time open timing please   \n",
       "4      payments  pay using credit card pay using mastercard pay...   \n",
       "\n",
       "                                           responses  \n",
       "0  [Hello, thanks for contacting us, Good to see ...  \n",
       "1  [See you later, thanks for visiting, have a gr...  \n",
       "2  [Happy to help!, Any time!, My pleasure, It is...  \n",
       "3  [We're open every day 8am-7pm, Our office hour...  \n",
       "4  [We accept VISA, Mastercard and credit card, W...  "
      ]
     },
     "execution_count": 4,
     "metadata": {},
     "output_type": "execute_result"
    }
   ],
   "source": [
    "from nltk.corpus import stopwords\n",
    "from textblob import Word\n",
    "stop = stopwords.words('english')\n",
    "df['patterns'] = df['patterns'].apply(lambda x:' '.join(x.lower() for x in x.split()))\n",
    "# df['patterns']= df['patterns'].apply(lambda x: ' '.join(x for x in x.split() if x not in string.punctuation))\n",
    "df['patterns']= df['patterns'].str.replace(\"[^\\w\\s]\",'')\n",
    "df['patterns']= df['patterns'].apply(lambda x: ' '.join(x for x in x.split() if  not x.isdigit()))\n",
    "df['patterns'] = df['patterns'].apply(lambda x:' '.join(x for x in x.split() if not x in stop))\n",
    "df['patterns'] = df['patterns'].apply(lambda x: \" \".join([Word(word).lemmatize() for word in x.split()]))\n",
    "df"
   ]
  },
  {
   "cell_type": "code",
   "execution_count": 5,
   "metadata": {},
   "outputs": [],
   "source": [
    "from gensim.models import Word2Vec"
   ]
  },
  {
   "cell_type": "code",
   "execution_count": 6,
   "metadata": {},
   "outputs": [],
   "source": [
    "Bigger_list=[]\n",
    "for i in df['patterns']:\n",
    "    li = list(i.split(\" \"))\n",
    "    Bigger_list.append(li)\n",
    "model= Word2Vec(Bigger_list,min_count=1,size=300,workers=4)"
   ]
  },
  {
   "cell_type": "code",
   "execution_count": 7,
   "metadata": {},
   "outputs": [],
   "source": [
    "# model.save(\"word2vec.model\")\n",
    "model.save(\"model.bin\")"
   ]
  },
  {
   "cell_type": "code",
   "execution_count": 8,
   "metadata": {},
   "outputs": [],
   "source": [
    "loaded_model = Word2Vec.load('model.bin')"
   ]
  },
  {
   "cell_type": "code",
   "execution_count": 9,
   "metadata": {
    "scrolled": true
   },
   "outputs": [
    {
     "data": {
      "text/plain": [
       "['hi',\n",
       " 'one',\n",
       " 'talk',\n",
       " 'hello',\n",
       " 'available',\n",
       " 'bye',\n",
       " 'see',\n",
       " 'later',\n",
       " 'goodbye',\n",
       " 'come',\n",
       " 'back',\n",
       " 'soon',\n",
       " 'thanks',\n",
       " 'helping',\n",
       " 'thank',\n",
       " 'guidance',\n",
       " 'thats',\n",
       " 'helpful',\n",
       " 'kind',\n",
       " 'hour',\n",
       " 'open',\n",
       " 'tell',\n",
       " 'opening',\n",
       " 'time',\n",
       " 'timing',\n",
       " 'please',\n",
       " 'pay',\n",
       " 'using',\n",
       " 'credit',\n",
       " 'card',\n",
       " 'mastercard',\n",
       " 'cash']"
      ]
     },
     "execution_count": 9,
     "metadata": {},
     "output_type": "execute_result"
    }
   ],
   "source": [
    "vocab = list(loaded_model.wv.vocab)\n",
    "vocab"
   ]
  },
  {
   "cell_type": "code",
   "execution_count": 10,
   "metadata": {},
   "outputs": [
    {
     "name": "stdout",
     "output_type": "stream",
     "text": [
      "[('helpful', 0.13922442495822906), ('hour', 0.0915229320526123), ('one', 0.07174398005008698), ('opening', 0.06882905960083008), ('time', 0.06164359301328659), ('talk', 0.05716725438833237), ('please', 0.055418722331523895), ('hi', 0.05442368984222412), ('tell', 0.04874475672841072), ('using', 0.04778452590107918)]\n"
     ]
    },
    {
     "name": "stderr",
     "output_type": "stream",
     "text": [
      "<ipython-input-10-c8e25aad01c6>:1: DeprecationWarning: Call to deprecated `most_similar` (Method will be removed in 4.0.0, use self.wv.most_similar() instead).\n",
      "  similar_words = model.most_similar('thanks')\n"
     ]
    }
   ],
   "source": [
    "similar_words = model.most_similar('thanks')\n",
    "print(similar_words)"
   ]
  },
  {
   "cell_type": "code",
   "execution_count": 11,
   "metadata": {},
   "outputs": [
    {
     "name": "stdout",
     "output_type": "stream",
     "text": [
      "Please provide the similarity between these two words:\n",
      "0.0799671\n"
     ]
    },
    {
     "name": "stderr",
     "output_type": "stream",
     "text": [
      "<ipython-input-11-27dad22e16f5>:1: DeprecationWarning: Call to deprecated `similarity` (Method will be removed in 4.0.0, use self.wv.similarity() instead).\n",
      "  similarity_two_words = model.similarity('please','see')\n"
     ]
    }
   ],
   "source": [
    "similarity_two_words = model.similarity('please','see')\n",
    "print(\"Please provide the similarity between these two words:\")\n",
    "print(similarity_two_words)"
   ]
  },
  {
   "cell_type": "code",
   "execution_count": 12,
   "metadata": {},
   "outputs": [
    {
     "name": "stdout",
     "output_type": "stream",
     "text": [
      "[('bye', 0.09153793752193451), ('soon', 0.08413970470428467), ('helping', 0.05958578363060951), ('helpful', 0.058409251272678375), ('tell', 0.057453423738479614), ('talk', 0.04961136728525162), ('see', 0.03525525704026222), ('mastercard', 0.026565486565232277), ('hello', 0.020605210214853287), ('cash', 0.016043081879615784)]\n"
     ]
    },
    {
     "name": "stderr",
     "output_type": "stream",
     "text": [
      "<ipython-input-12-9e21e225c8bc>:1: DeprecationWarning: Call to deprecated `similar_by_word` (Method will be removed in 4.0.0, use self.wv.similar_by_word() instead).\n",
      "  similar = model.similar_by_word('kind')\n"
     ]
    }
   ],
   "source": [
    "similar = model.similar_by_word('kind')\n",
    "print(similar)"
   ]
  },
  {
   "cell_type": "markdown",
   "metadata": {},
   "source": [
    "## Homework\n",
    "- Use USE (Universal Sentence Encoder) for Sentence Similarity"
   ]
  },
  {
   "cell_type": "code",
   "execution_count": null,
   "metadata": {},
   "outputs": [],
   "source": []
  }
 ],
 "metadata": {
  "kernelspec": {
   "display_name": "Python 3",
   "language": "python",
   "name": "python3"
  },
  "language_info": {
   "codemirror_mode": {
    "name": "ipython",
    "version": 3
   },
   "file_extension": ".py",
   "mimetype": "text/x-python",
   "name": "python",
   "nbconvert_exporter": "python",
   "pygments_lexer": "ipython3",
   "version": "3.7.6"
  }
 },
 "nbformat": 4,
 "nbformat_minor": 2
}
