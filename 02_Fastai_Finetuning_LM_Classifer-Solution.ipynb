{
 "cells": [
  {
   "cell_type": "code",
   "execution_count": 1,
   "metadata": {
    "execution": {
     "iopub.execute_input": "2021-05-28T18:57:10.302694Z",
     "iopub.status.busy": "2021-05-28T18:57:10.302391Z",
     "iopub.status.idle": "2021-05-28T18:57:14.921399Z",
     "shell.execute_reply": "2021-05-28T18:57:14.920459Z",
     "shell.execute_reply.started": "2021-05-28T18:57:10.302622Z"
    }
   },
   "outputs": [],
   "source": [
    "from fastai.text.all import *"
   ]
  },
  {
   "cell_type": "markdown",
   "metadata": {},
   "source": [
    "# Fastai Text Classification - Pretraining a LM and Classifier"
   ]
  },
  {
   "cell_type": "markdown",
   "metadata": {},
   "source": [
    "### Get the IMDB dataset"
   ]
  },
  {
   "cell_type": "code",
   "execution_count": 2,
   "metadata": {
    "execution": {
     "iopub.execute_input": "2021-05-28T18:57:14.923247Z",
     "iopub.status.busy": "2021-05-28T18:57:14.922850Z",
     "iopub.status.idle": "2021-05-28T18:57:45.476923Z",
     "shell.execute_reply": "2021-05-28T18:57:45.473949Z",
     "shell.execute_reply.started": "2021-05-28T18:57:14.923163Z"
    }
   },
   "outputs": [
    {
     "data": {
      "text/html": [],
      "text/plain": [
       "<IPython.core.display.HTML object>"
      ]
     },
     "metadata": {},
     "output_type": "display_data"
    },
    {
     "data": {
      "text/plain": [
       "(#7) [Path('/root/.fastai/data/imdb/imdb.vocab'),Path('/root/.fastai/data/imdb/README'),Path('/root/.fastai/data/imdb/unsup'),Path('/root/.fastai/data/imdb/test'),Path('/root/.fastai/data/imdb/tmp_lm'),Path('/root/.fastai/data/imdb/train'),Path('/root/.fastai/data/imdb/tmp_clas')]"
      ]
     },
     "execution_count": 2,
     "metadata": {},
     "output_type": "execute_result"
    }
   ],
   "source": [
    "path = untar_data(URLs.IMDB)\n",
    "path.ls()"
   ]
  },
  {
   "cell_type": "markdown",
   "metadata": {},
   "source": [
    "### Load the data (only LM)"
   ]
  },
  {
   "cell_type": "code",
   "execution_count": 3,
   "metadata": {
    "execution": {
     "iopub.execute_input": "2021-05-28T18:58:10.599022Z",
     "iopub.status.busy": "2021-05-28T18:58:10.598704Z",
     "iopub.status.idle": "2021-05-28T19:03:44.886594Z",
     "shell.execute_reply": "2021-05-28T19:03:44.885074Z",
     "shell.execute_reply.started": "2021-05-28T18:58:10.598992Z"
    }
   },
   "outputs": [
    {
     "data": {
      "text/html": [],
      "text/plain": [
       "<IPython.core.display.HTML object>"
      ]
     },
     "metadata": {},
     "output_type": "display_data"
    }
   ],
   "source": [
    "dls_lm = TextDataLoaders.from_folder(path, is_lm=True, valid_pct=0.1)"
   ]
  },
  {
   "cell_type": "markdown",
   "metadata": {},
   "source": [
    "### Show some sample data"
   ]
  },
  {
   "cell_type": "code",
   "execution_count": 4,
   "metadata": {
    "execution": {
     "iopub.execute_input": "2021-05-28T19:03:44.888856Z",
     "iopub.status.busy": "2021-05-28T19:03:44.888499Z",
     "iopub.status.idle": "2021-05-28T19:03:46.005890Z",
     "shell.execute_reply": "2021-05-28T19:03:46.004549Z",
     "shell.execute_reply.started": "2021-05-28T19:03:44.888818Z"
    }
   },
   "outputs": [
    {
     "data": {
      "text/html": [
       "<table border=\"1\" class=\"dataframe\">\n",
       "  <thead>\n",
       "    <tr style=\"text-align: right;\">\n",
       "      <th></th>\n",
       "      <th>text</th>\n",
       "      <th>text_</th>\n",
       "    </tr>\n",
       "  </thead>\n",
       "  <tbody>\n",
       "    <tr>\n",
       "      <th>0</th>\n",
       "      <td>xxbos xxup the xxup good : xxmaj the acting were great especially xxmaj terrence xxmaj howard and xxmaj thandie xxmaj newton . xxmaj terrence xxmaj howard should have been nominated for xxmaj best xxmaj supporting xxmaj actor instead of xxmaj matt xxmaj dillon . \\n\\n xxup the xxup bad : xxmaj i 'm a visible minority ( non - white ) and i have experienced some form of racism in my life</td>\n",
       "      <td>xxup the xxup good : xxmaj the acting were great especially xxmaj terrence xxmaj howard and xxmaj thandie xxmaj newton . xxmaj terrence xxmaj howard should have been nominated for xxmaj best xxmaj supporting xxmaj actor instead of xxmaj matt xxmaj dillon . \\n\\n xxup the xxup bad : xxmaj i 'm a visible minority ( non - white ) and i have experienced some form of racism in my life .</td>\n",
       "    </tr>\n",
       "    <tr>\n",
       "      <th>1</th>\n",
       "      <td>with honesty . xxmaj it was so nice to see a film where the story line centered on young professional african - americans . xxmaj this is virtually an untapped market . xxmaj love xxmaj jones was visually captivating as well . xxmaj the chemistry between xxmaj lorenz xxmaj tate and xxmaj nia xxmaj long will bring memories of past and present love . xxmaj the feeling of the film is jazz</td>\n",
       "      <td>honesty . xxmaj it was so nice to see a film where the story line centered on young professional african - americans . xxmaj this is virtually an untapped market . xxmaj love xxmaj jones was visually captivating as well . xxmaj the chemistry between xxmaj lorenz xxmaj tate and xxmaj nia xxmaj long will bring memories of past and present love . xxmaj the feeling of the film is jazz and</td>\n",
       "    </tr>\n",
       "    <tr>\n",
       "      <th>2</th>\n",
       "      <td>admit that it was a good film . xxmaj the quality was a little worse for the wear , but it was a well acted and realistic drama involving low level xxmaj new xxmaj jersey gangsters . xxmaj pesci once again though , steels the show ! xxbos xxmaj what happened to the sweet , precocious little girl we all grew up with ? xxmaj when the series was canceled , i</td>\n",
       "      <td>that it was a good film . xxmaj the quality was a little worse for the wear , but it was a well acted and realistic drama involving low level xxmaj new xxmaj jersey gangsters . xxmaj pesci once again though , steels the show ! xxbos xxmaj what happened to the sweet , precocious little girl we all grew up with ? xxmaj when the series was canceled , i felt</td>\n",
       "    </tr>\n",
       "    <tr>\n",
       "      <th>3</th>\n",
       "      <td>xxmaj of course the snob could n't even do that right . i have enough problems with xxmaj gwyneth xxmaj paltrow as xxmaj gwyneth xxmaj paltrow , and her \" emma \" did not exactly change my opinion . \\n\\n xxmaj well , it 's easy to see that i did not care for this one . xxmaj i 'm sure it 's a lovely book and all , but some books</td>\n",
       "      <td>of course the snob could n't even do that right . i have enough problems with xxmaj gwyneth xxmaj paltrow as xxmaj gwyneth xxmaj paltrow , and her \" emma \" did not exactly change my opinion . \\n\\n xxmaj well , it 's easy to see that i did not care for this one . xxmaj i 'm sure it 's a lovely book and all , but some books are</td>\n",
       "    </tr>\n",
       "    <tr>\n",
       "      <th>4</th>\n",
       "      <td>his badge he searches for the last vampire slayer ( no not xxmaj buffy ! ) to take back the streets and vanquish the bloodsuckers back to the grave . \\n\\n ' vampire xxmaj assassins ' is a horrible film . xxmaj it rips off so many other films ( can you say xxmaj blade ? ) that it never even attempts to establish it 's own identity . xxmaj the script</td>\n",
       "      <td>badge he searches for the last vampire slayer ( no not xxmaj buffy ! ) to take back the streets and vanquish the bloodsuckers back to the grave . \\n\\n ' vampire xxmaj assassins ' is a horrible film . xxmaj it rips off so many other films ( can you say xxmaj blade ? ) that it never even attempts to establish it 's own identity . xxmaj the script is</td>\n",
       "    </tr>\n",
       "    <tr>\n",
       "      <th>5</th>\n",
       "      <td>xxunk xxmaj sutherland ) who is looking for the worlds most notorious terrorist and add a xxmaj ben xxmaj kingsley and you have \" the xxmaj assignment \" . xxmaj sutherland is a witness of the most notorious terrorist xxmaj carlos actions in a cafe on a lovely day where he is so profoundly rocked at this mans evil that his sole reason to live is to get this man as long</td>\n",
       "      <td>xxmaj sutherland ) who is looking for the worlds most notorious terrorist and add a xxmaj ben xxmaj kingsley and you have \" the xxmaj assignment \" . xxmaj sutherland is a witness of the most notorious terrorist xxmaj carlos actions in a cafe on a lovely day where he is so profoundly rocked at this mans evil that his sole reason to live is to get this man as long as</td>\n",
       "    </tr>\n",
       "    <tr>\n",
       "      <th>6</th>\n",
       "      <td>more \" stopping power \" upon impact with the intended victim . xxmaj cool ! xxmaj although \" wanted - dead or xxmaj alive \" was truly nothing out of the ordinary in terms of content or quality compared to other like fare of the period but xxmaj steve mcqueen as xxmaj josh xxmaj randall and his unique weapon made this a \" must watch \" series . xxmaj only xxmaj paladin</td>\n",
       "      <td>\" stopping power \" upon impact with the intended victim . xxmaj cool ! xxmaj although \" wanted - dead or xxmaj alive \" was truly nothing out of the ordinary in terms of content or quality compared to other like fare of the period but xxmaj steve mcqueen as xxmaj josh xxmaj randall and his unique weapon made this a \" must watch \" series . xxmaj only xxmaj paladin was</td>\n",
       "    </tr>\n",
       "    <tr>\n",
       "      <th>7</th>\n",
       "      <td>he has been seen as established actor xxmaj this movie has nothing except the bold scene done by new actress xxmaj never try this movie xxbos i could go on &amp; on about this show , as others have , but i do n't need to cover old ground -- those of us who saw this show as youngsters when it first came out , well … it was an amazing &amp;</td>\n",
       "      <td>has been seen as established actor xxmaj this movie has nothing except the bold scene done by new actress xxmaj never try this movie xxbos i could go on &amp; on about this show , as others have , but i do n't need to cover old ground -- those of us who saw this show as youngsters when it first came out , well … it was an amazing &amp; hypnotic</td>\n",
       "    </tr>\n",
       "    <tr>\n",
       "      <th>8</th>\n",
       "      <td>was dealt with intelligently and moving . xxmaj and i reiterate what the others have stated : xxup this xxup series xxup should xxup be xxup released xxup on xxup dvd ! xxbos xxmaj this movie is about a xxmaj xxunk xxmaj family but xxmaj not just any xxmaj dysfunctional xxmaj family . xxmaj it is about the xxmaj family of the xxmaj father of our xxmaj nation ( india ) although</td>\n",
       "      <td>dealt with intelligently and moving . xxmaj and i reiterate what the others have stated : xxup this xxup series xxup should xxup be xxup released xxup on xxup dvd ! xxbos xxmaj this movie is about a xxmaj xxunk xxmaj family but xxmaj not just any xxmaj dysfunctional xxmaj family . xxmaj it is about the xxmaj family of the xxmaj father of our xxmaj nation ( india ) although ,</td>\n",
       "    </tr>\n",
       "  </tbody>\n",
       "</table>"
      ],
      "text/plain": [
       "<IPython.core.display.HTML object>"
      ]
     },
     "metadata": {},
     "output_type": "display_data"
    }
   ],
   "source": [
    "dls_lm.show_batch()"
   ]
  },
  {
   "cell_type": "markdown",
   "metadata": {},
   "source": [
    "### Build a Language Model Learner\n",
    "- Use `AWD_LSTM` as pretrained model\n",
    "- Use `accuracy` and `perplexity` as metrics\n",
    "- Use `to_fp16()` for faster computations"
   ]
  },
  {
   "cell_type": "code",
   "execution_count": 5,
   "metadata": {
    "execution": {
     "iopub.execute_input": "2021-05-28T19:03:46.008103Z",
     "iopub.status.busy": "2021-05-28T19:03:46.007583Z",
     "iopub.status.idle": "2021-05-28T19:03:54.226291Z",
     "shell.execute_reply": "2021-05-28T19:03:54.225102Z",
     "shell.execute_reply.started": "2021-05-28T19:03:46.008059Z"
    }
   },
   "outputs": [
    {
     "data": {
      "text/html": [],
      "text/plain": [
       "<IPython.core.display.HTML object>"
      ]
     },
     "metadata": {},
     "output_type": "display_data"
    }
   ],
   "source": [
    "learn = language_model_learner(dls_lm, AWD_LSTM, metrics=[accuracy, Perplexity()], path=path, wd=0.1).to_fp16()"
   ]
  },
  {
   "cell_type": "markdown",
   "metadata": {},
   "source": [
    "### Fit one cycle"
   ]
  },
  {
   "cell_type": "code",
   "execution_count": 6,
   "metadata": {
    "execution": {
     "iopub.execute_input": "2021-05-28T19:04:04.904138Z",
     "iopub.status.busy": "2021-05-28T19:04:04.903814Z",
     "iopub.status.idle": "2021-05-28T19:34:31.955025Z",
     "shell.execute_reply": "2021-05-28T19:34:31.954084Z",
     "shell.execute_reply.started": "2021-05-28T19:04:04.904097Z"
    }
   },
   "outputs": [
    {
     "data": {
      "text/html": [
       "<table border=\"1\" class=\"dataframe\">\n",
       "  <thead>\n",
       "    <tr style=\"text-align: left;\">\n",
       "      <th>epoch</th>\n",
       "      <th>train_loss</th>\n",
       "      <th>valid_loss</th>\n",
       "      <th>accuracy</th>\n",
       "      <th>perplexity</th>\n",
       "      <th>time</th>\n",
       "    </tr>\n",
       "  </thead>\n",
       "  <tbody>\n",
       "    <tr>\n",
       "      <td>0</td>\n",
       "      <td>4.399793</td>\n",
       "      <td>4.105767</td>\n",
       "      <td>0.286672</td>\n",
       "      <td>60.689289</td>\n",
       "      <td>30:26</td>\n",
       "    </tr>\n",
       "  </tbody>\n",
       "</table>"
      ],
      "text/plain": [
       "<IPython.core.display.HTML object>"
      ]
     },
     "metadata": {},
     "output_type": "display_data"
    }
   ],
   "source": [
    "learn.fit_one_cycle(1, 1e-2)"
   ]
  },
  {
   "cell_type": "markdown",
   "metadata": {},
   "source": [
    "### Save the trained model"
   ]
  },
  {
   "cell_type": "code",
   "execution_count": 7,
   "metadata": {
    "execution": {
     "iopub.execute_input": "2021-05-28T19:34:31.957344Z",
     "iopub.status.busy": "2021-05-28T19:34:31.956973Z",
     "iopub.status.idle": "2021-05-28T19:34:33.307691Z",
     "shell.execute_reply": "2021-05-28T19:34:33.306876Z",
     "shell.execute_reply.started": "2021-05-28T19:34:31.957303Z"
    }
   },
   "outputs": [
    {
     "data": {
      "text/plain": [
       "Path('/root/.fastai/data/imdb/models/1epoch.pth')"
      ]
     },
     "execution_count": 7,
     "metadata": {},
     "output_type": "execute_result"
    }
   ],
   "source": [
    "learn.save('1epoch')"
   ]
  },
  {
   "cell_type": "markdown",
   "metadata": {},
   "source": [
    "### Load the trained model"
   ]
  },
  {
   "cell_type": "code",
   "execution_count": 8,
   "metadata": {
    "execution": {
     "iopub.execute_input": "2021-05-28T19:34:33.309610Z",
     "iopub.status.busy": "2021-05-28T19:34:33.309117Z",
     "iopub.status.idle": "2021-05-28T19:34:33.570932Z",
     "shell.execute_reply": "2021-05-28T19:34:33.570188Z",
     "shell.execute_reply.started": "2021-05-28T19:34:33.309567Z"
    }
   },
   "outputs": [],
   "source": [
    "learn = learn.load('1epoch')"
   ]
  },
  {
   "cell_type": "markdown",
   "metadata": {},
   "source": [
    "### Unfreeze the model and train the model"
   ]
  },
  {
   "cell_type": "code",
   "execution_count": 9,
   "metadata": {
    "execution": {
     "iopub.execute_input": "2021-05-28T19:34:33.572623Z",
     "iopub.status.busy": "2021-05-28T19:34:33.572240Z",
     "iopub.status.idle": "2021-05-28T21:14:20.549515Z",
     "shell.execute_reply": "2021-05-28T21:14:20.548831Z",
     "shell.execute_reply.started": "2021-05-28T19:34:33.572580Z"
    }
   },
   "outputs": [
    {
     "data": {
      "text/html": [
       "<table border=\"1\" class=\"dataframe\">\n",
       "  <thead>\n",
       "    <tr style=\"text-align: left;\">\n",
       "      <th>epoch</th>\n",
       "      <th>train_loss</th>\n",
       "      <th>valid_loss</th>\n",
       "      <th>accuracy</th>\n",
       "      <th>perplexity</th>\n",
       "      <th>time</th>\n",
       "    </tr>\n",
       "  </thead>\n",
       "  <tbody>\n",
       "    <tr>\n",
       "      <td>0</td>\n",
       "      <td>4.066998</td>\n",
       "      <td>3.891075</td>\n",
       "      <td>0.306145</td>\n",
       "      <td>48.963490</td>\n",
       "      <td>33:09</td>\n",
       "    </tr>\n",
       "    <tr>\n",
       "      <td>1</td>\n",
       "      <td>3.972945</td>\n",
       "      <td>3.805165</td>\n",
       "      <td>0.315330</td>\n",
       "      <td>44.932667</td>\n",
       "      <td>33:27</td>\n",
       "    </tr>\n",
       "    <tr>\n",
       "      <td>2</td>\n",
       "      <td>3.904613</td>\n",
       "      <td>3.759892</td>\n",
       "      <td>0.320839</td>\n",
       "      <td>42.943810</td>\n",
       "      <td>33:09</td>\n",
       "    </tr>\n",
       "  </tbody>\n",
       "</table>"
      ],
      "text/plain": [
       "<IPython.core.display.HTML object>"
      ]
     },
     "metadata": {},
     "output_type": "display_data"
    }
   ],
   "source": [
    "learn.unfreeze()\n",
    "learn.fit_one_cycle(3, 1e-3)"
   ]
  },
  {
   "cell_type": "markdown",
   "metadata": {},
   "source": [
    "### Save the encoder (except the last layers)"
   ]
  },
  {
   "cell_type": "code",
   "execution_count": 10,
   "metadata": {
    "execution": {
     "iopub.execute_input": "2021-05-28T21:14:20.553231Z",
     "iopub.status.busy": "2021-05-28T21:14:20.552962Z",
     "iopub.status.idle": "2021-05-28T21:14:21.144266Z",
     "shell.execute_reply": "2021-05-28T21:14:21.143449Z",
     "shell.execute_reply.started": "2021-05-28T21:14:20.553203Z"
    }
   },
   "outputs": [],
   "source": [
    "learn.save_encoder('finetuned')"
   ]
  },
  {
   "cell_type": "markdown",
   "metadata": {},
   "source": [
    "### Try our very own pretrained LM for generating text reviews"
   ]
  },
  {
   "cell_type": "code",
   "execution_count": 11,
   "metadata": {
    "execution": {
     "iopub.execute_input": "2021-05-28T21:14:21.146010Z",
     "iopub.status.busy": "2021-05-28T21:14:21.145680Z",
     "iopub.status.idle": "2021-05-28T21:14:22.416941Z",
     "shell.execute_reply": "2021-05-28T21:14:22.416171Z",
     "shell.execute_reply.started": "2021-05-28T21:14:21.145976Z"
    }
   },
   "outputs": [
    {
     "data": {
      "text/html": [],
      "text/plain": [
       "<IPython.core.display.HTML object>"
      ]
     },
     "metadata": {},
     "output_type": "display_data"
    },
    {
     "data": {
      "text/html": [],
      "text/plain": [
       "<IPython.core.display.HTML object>"
      ]
     },
     "metadata": {},
     "output_type": "display_data"
    }
   ],
   "source": [
    "TEXT = \"I liked this movie because\"\n",
    "N_WORDS = 40\n",
    "N_SENTENCES = 2\n",
    "preds = [learn.predict(TEXT, N_WORDS, temperature=0.75) \n",
    "         for _ in range(N_SENTENCES)]"
   ]
  },
  {
   "cell_type": "code",
   "execution_count": 12,
   "metadata": {
    "execution": {
     "iopub.execute_input": "2021-05-28T21:14:22.418864Z",
     "iopub.status.busy": "2021-05-28T21:14:22.418370Z",
     "iopub.status.idle": "2021-05-28T21:14:22.423982Z",
     "shell.execute_reply": "2021-05-28T21:14:22.422880Z",
     "shell.execute_reply.started": "2021-05-28T21:14:22.418821Z"
    }
   },
   "outputs": [
    {
     "name": "stdout",
     "output_type": "stream",
     "text": [
      "i liked this movie because i did n't expect a lot from Dennis Quaid ( and i already liked the \" pirates \" in it ) . The acting was n't very good , the actors were great , the actors were\n",
      "i liked this movie because i loved the performances of Julia Roberts , Kevin Costner and Martin Sheen . The story is full of violence , exotic locations and some of the worst action scenes in the film\n"
     ]
    }
   ],
   "source": [
    "print(\"\\n\".join(preds))"
   ]
  },
  {
   "cell_type": "markdown",
   "metadata": {},
   "source": [
    "## Finetuning the classifier\n",
    "### Load the pretrained model with the finetuned LM vocabulary"
   ]
  },
  {
   "cell_type": "code",
   "execution_count": 13,
   "metadata": {
    "execution": {
     "iopub.execute_input": "2021-05-28T21:14:22.426052Z",
     "iopub.status.busy": "2021-05-28T21:14:22.425496Z",
     "iopub.status.idle": "2021-05-28T21:14:28.923655Z",
     "shell.execute_reply": "2021-05-28T21:14:28.922892Z",
     "shell.execute_reply.started": "2021-05-28T21:14:22.425958Z"
    }
   },
   "outputs": [],
   "source": [
    "dls_clas = TextDataLoaders.from_folder(untar_data(URLs.IMDB), valid='test', text_vocab=dls_lm.vocab)"
   ]
  },
  {
   "cell_type": "markdown",
   "metadata": {},
   "source": [
    "### Build the classifier"
   ]
  },
  {
   "cell_type": "code",
   "execution_count": 14,
   "metadata": {
    "execution": {
     "iopub.execute_input": "2021-05-28T21:14:28.925206Z",
     "iopub.status.busy": "2021-05-28T21:14:28.924865Z",
     "iopub.status.idle": "2021-05-28T21:14:30.656655Z",
     "shell.execute_reply": "2021-05-28T21:14:30.655709Z",
     "shell.execute_reply.started": "2021-05-28T21:14:28.925172Z"
    }
   },
   "outputs": [],
   "source": [
    "learn = text_classifier_learner(dls_clas, AWD_LSTM, drop_mult=0.5, metrics=accuracy)"
   ]
  },
  {
   "cell_type": "markdown",
   "metadata": {},
   "source": [
    "### Load the saved encoder to the classifier "
   ]
  },
  {
   "cell_type": "code",
   "execution_count": 15,
   "metadata": {
    "execution": {
     "iopub.execute_input": "2021-05-28T21:14:30.658535Z",
     "iopub.status.busy": "2021-05-28T21:14:30.658092Z",
     "iopub.status.idle": "2021-05-28T21:14:30.827953Z",
     "shell.execute_reply": "2021-05-28T21:14:30.827225Z",
     "shell.execute_reply.started": "2021-05-28T21:14:30.658496Z"
    }
   },
   "outputs": [],
   "source": [
    "learn = learn.load_encoder('finetuned')"
   ]
  },
  {
   "cell_type": "markdown",
   "metadata": {},
   "source": [
    "### Fit for one cycle"
   ]
  },
  {
   "cell_type": "code",
   "execution_count": 16,
   "metadata": {
    "execution": {
     "iopub.execute_input": "2021-05-28T21:14:30.829616Z",
     "iopub.status.busy": "2021-05-28T21:14:30.829224Z",
     "iopub.status.idle": "2021-05-28T21:16:46.700484Z",
     "shell.execute_reply": "2021-05-28T21:16:46.699726Z",
     "shell.execute_reply.started": "2021-05-28T21:14:30.829577Z"
    }
   },
   "outputs": [
    {
     "data": {
      "text/html": [
       "<table border=\"1\" class=\"dataframe\">\n",
       "  <thead>\n",
       "    <tr style=\"text-align: left;\">\n",
       "      <th>epoch</th>\n",
       "      <th>train_loss</th>\n",
       "      <th>valid_loss</th>\n",
       "      <th>accuracy</th>\n",
       "      <th>time</th>\n",
       "    </tr>\n",
       "  </thead>\n",
       "  <tbody>\n",
       "    <tr>\n",
       "      <td>0</td>\n",
       "      <td>0.259396</td>\n",
       "      <td>0.205606</td>\n",
       "      <td>0.917880</td>\n",
       "      <td>02:15</td>\n",
       "    </tr>\n",
       "  </tbody>\n",
       "</table>"
      ],
      "text/plain": [
       "<IPython.core.display.HTML object>"
      ]
     },
     "metadata": {},
     "output_type": "display_data"
    }
   ],
   "source": [
    "learn.fit_one_cycle(1, 2e-2)"
   ]
  },
  {
   "cell_type": "markdown",
   "metadata": {},
   "source": [
    "## Finetuning the Classifier model\n",
    "- Freeze the last two layers and train"
   ]
  },
  {
   "cell_type": "code",
   "execution_count": 17,
   "metadata": {
    "execution": {
     "iopub.execute_input": "2021-05-28T21:16:46.703632Z",
     "iopub.status.busy": "2021-05-28T21:16:46.703364Z",
     "iopub.status.idle": "2021-05-28T21:19:20.090047Z",
     "shell.execute_reply": "2021-05-28T21:19:20.089068Z",
     "shell.execute_reply.started": "2021-05-28T21:16:46.703606Z"
    }
   },
   "outputs": [
    {
     "data": {
      "text/html": [
       "<table border=\"1\" class=\"dataframe\">\n",
       "  <thead>\n",
       "    <tr style=\"text-align: left;\">\n",
       "      <th>epoch</th>\n",
       "      <th>train_loss</th>\n",
       "      <th>valid_loss</th>\n",
       "      <th>accuracy</th>\n",
       "      <th>time</th>\n",
       "    </tr>\n",
       "  </thead>\n",
       "  <tbody>\n",
       "    <tr>\n",
       "      <td>0</td>\n",
       "      <td>0.228839</td>\n",
       "      <td>0.180698</td>\n",
       "      <td>0.932040</td>\n",
       "      <td>02:33</td>\n",
       "    </tr>\n",
       "  </tbody>\n",
       "</table>"
      ],
      "text/plain": [
       "<IPython.core.display.HTML object>"
      ]
     },
     "metadata": {},
     "output_type": "display_data"
    }
   ],
   "source": [
    "learn.freeze_to(-2)\n",
    "learn.fit_one_cycle(1, slice(1e-2/(2.6**4),1e-2))"
   ]
  },
  {
   "cell_type": "markdown",
   "metadata": {},
   "source": [
    "- Freeze the last three layers and train"
   ]
  },
  {
   "cell_type": "code",
   "execution_count": 18,
   "metadata": {
    "execution": {
     "iopub.execute_input": "2021-05-28T21:19:20.092288Z",
     "iopub.status.busy": "2021-05-28T21:19:20.091802Z",
     "iopub.status.idle": "2021-05-28T21:22:46.526901Z",
     "shell.execute_reply": "2021-05-28T21:22:46.526185Z",
     "shell.execute_reply.started": "2021-05-28T21:19:20.092238Z"
    }
   },
   "outputs": [
    {
     "data": {
      "text/html": [
       "<table border=\"1\" class=\"dataframe\">\n",
       "  <thead>\n",
       "    <tr style=\"text-align: left;\">\n",
       "      <th>epoch</th>\n",
       "      <th>train_loss</th>\n",
       "      <th>valid_loss</th>\n",
       "      <th>accuracy</th>\n",
       "      <th>time</th>\n",
       "    </tr>\n",
       "  </thead>\n",
       "  <tbody>\n",
       "    <tr>\n",
       "      <td>0</td>\n",
       "      <td>0.193656</td>\n",
       "      <td>0.163980</td>\n",
       "      <td>0.938360</td>\n",
       "      <td>03:26</td>\n",
       "    </tr>\n",
       "  </tbody>\n",
       "</table>"
      ],
      "text/plain": [
       "<IPython.core.display.HTML object>"
      ]
     },
     "metadata": {},
     "output_type": "display_data"
    }
   ],
   "source": [
    "learn.freeze_to(-3)\n",
    "learn.fit_one_cycle(1, slice(5e-3/(2.6**4),5e-3))"
   ]
  },
  {
   "cell_type": "markdown",
   "metadata": {},
   "source": [
    "- Unfreeze all layers and train"
   ]
  },
  {
   "cell_type": "code",
   "execution_count": 19,
   "metadata": {
    "execution": {
     "iopub.execute_input": "2021-05-28T21:22:46.530011Z",
     "iopub.status.busy": "2021-05-28T21:22:46.529733Z",
     "iopub.status.idle": "2021-05-28T21:31:13.799918Z",
     "shell.execute_reply": "2021-05-28T21:31:13.799055Z",
     "shell.execute_reply.started": "2021-05-28T21:22:46.529985Z"
    }
   },
   "outputs": [
    {
     "data": {
      "text/html": [
       "<table border=\"1\" class=\"dataframe\">\n",
       "  <thead>\n",
       "    <tr style=\"text-align: left;\">\n",
       "      <th>epoch</th>\n",
       "      <th>train_loss</th>\n",
       "      <th>valid_loss</th>\n",
       "      <th>accuracy</th>\n",
       "      <th>time</th>\n",
       "    </tr>\n",
       "  </thead>\n",
       "  <tbody>\n",
       "    <tr>\n",
       "      <td>0</td>\n",
       "      <td>0.147810</td>\n",
       "      <td>0.160574</td>\n",
       "      <td>0.940040</td>\n",
       "      <td>04:13</td>\n",
       "    </tr>\n",
       "    <tr>\n",
       "      <td>1</td>\n",
       "      <td>0.127101</td>\n",
       "      <td>0.158921</td>\n",
       "      <td>0.941200</td>\n",
       "      <td>04:13</td>\n",
       "    </tr>\n",
       "  </tbody>\n",
       "</table>"
      ],
      "text/plain": [
       "<IPython.core.display.HTML object>"
      ]
     },
     "metadata": {},
     "output_type": "display_data"
    }
   ],
   "source": [
    "learn.unfreeze()\n",
    "learn.fit_one_cycle(2, slice(1e-3/(2.6**4),1e-3))"
   ]
  },
  {
   "cell_type": "markdown",
   "metadata": {},
   "source": [
    "## Is it any better than the previous version?"
   ]
  },
  {
   "cell_type": "code",
   "execution_count": null,
   "metadata": {},
   "outputs": [],
   "source": []
  }
 ],
 "metadata": {
  "kernelspec": {
   "display_name": "Python 3",
   "language": "python",
   "name": "python3"
  },
  "language_info": {
   "codemirror_mode": {
    "name": "ipython",
    "version": 3
   },
   "file_extension": ".py",
   "mimetype": "text/x-python",
   "name": "python",
   "nbconvert_exporter": "python",
   "pygments_lexer": "ipython3",
   "version": "3.8.5"
  }
 },
 "nbformat": 4,
 "nbformat_minor": 4
}
