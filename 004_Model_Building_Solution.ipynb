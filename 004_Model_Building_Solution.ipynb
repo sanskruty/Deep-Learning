{
 "cells": [
  {
   "cell_type": "code",
   "execution_count": 1,
   "metadata": {},
   "outputs": [],
   "source": [
    "%matplotlib inline"
   ]
  },
  {
   "cell_type": "markdown",
   "metadata": {},
   "source": [
    "# Build a Neural Network\n",
    "\n",
    "Neural networks comprise of layers/modules that perform operations on data. \n",
    "\n",
    "The `torch.nn` <https://pytorch.org/docs/stable/nn.html> namespace provides all the building blocks you need to \n",
    "build your own neural network \n",
    "\n",
    "Every module in PyTorch subclasses the `nn.Module` <https://pytorch.org/docs/stable/generated/torch.nn.Module.html>\n",
    "\n",
    "- A neural network is a module itself that consists of other modules (layers)\n",
    "- This nested structure allows for building and managing complex architectures easily"
   ]
  },
  {
   "cell_type": "markdown",
   "metadata": {},
   "source": [
    "### Import the necessary libraries"
   ]
  },
  {
   "cell_type": "code",
   "execution_count": 2,
   "metadata": {},
   "outputs": [],
   "source": [
    "import os\n",
    "import torch\n",
    "from torch import nn\n",
    "from torch.utils.data import DataLoader\n",
    "from torchvision import datasets, transforms"
   ]
  },
  {
   "cell_type": "markdown",
   "metadata": {},
   "source": [
    "### Get Device for Training\n",
    "\n",
    "Train our model on a hardware accelerator like the GPU, if it is available.\n",
    "\n",
    "Let's check to see if \n",
    "`torch.cuda` <https://pytorch.org/docs/stable/notes/cuda.html> is available, else we \n",
    "continue to use the CPU. \n",
    "\n"
   ]
  },
  {
   "cell_type": "code",
   "execution_count": 3,
   "metadata": {},
   "outputs": [
    {
     "name": "stdout",
     "output_type": "stream",
     "text": [
      "Using cpu device\n"
     ]
    }
   ],
   "source": [
    "device = 'cuda' if torch.cuda.is_available() else 'cpu'\n",
    "print('Using {} device'.format(device))"
   ]
  },
  {
   "cell_type": "markdown",
   "metadata": {},
   "source": [
    "## Define the Class\n",
    "\n",
    "Define our neural network by \n",
    "- subclassing ``nn.Module``, and \n",
    "- initialize the neural network layers in ``__init__``\n",
    "\n",
    "- Every ``nn.Module`` subclass implements the operations on input data in the ``forward`` method\n",
    "\n"
   ]
  },
  {
   "cell_type": "code",
   "execution_count": 4,
   "metadata": {},
   "outputs": [],
   "source": [
    "class NeuralNetwork(nn.Module):\n",
    "    def __init__(self):\n",
    "        super(NeuralNetwork, self).__init__()\n",
    "        self.flatten = nn.Flatten()\n",
    "        self.linear_relu_stack = nn.Sequential(\n",
    "            nn.Linear(28*28, 512),\n",
    "            nn.ReLU(),\n",
    "            nn.Linear(512, 512),\n",
    "            nn.ReLU(),\n",
    "            nn.Linear(512, 10),\n",
    "            nn.ReLU()\n",
    "        )\n",
    "\n",
    "    def forward(self, x):\n",
    "        x = self.flatten(x)\n",
    "        logits = self.linear_relu_stack(x)\n",
    "        return logits"
   ]
  },
  {
   "cell_type": "markdown",
   "metadata": {},
   "source": [
    "Create an instance of ``NeuralNetwork``, and move it to the ``device``, and print \n",
    "its structure"
   ]
  },
  {
   "cell_type": "code",
   "execution_count": 5,
   "metadata": {},
   "outputs": [
    {
     "name": "stdout",
     "output_type": "stream",
     "text": [
      "NeuralNetwork(\n",
      "  (flatten): Flatten(start_dim=1, end_dim=-1)\n",
      "  (linear_relu_stack): Sequential(\n",
      "    (0): Linear(in_features=784, out_features=512, bias=True)\n",
      "    (1): ReLU()\n",
      "    (2): Linear(in_features=512, out_features=512, bias=True)\n",
      "    (3): ReLU()\n",
      "    (4): Linear(in_features=512, out_features=10, bias=True)\n",
      "    (5): ReLU()\n",
      "  )\n",
      ")\n"
     ]
    }
   ],
   "source": [
    "model = NeuralNetwork().to(device)\n",
    "print(model)"
   ]
  },
  {
   "cell_type": "markdown",
   "metadata": {},
   "source": [
    "To use the model, pass it the input data\n",
    "\n",
    "This executes the model's ``forward``, along with some `background operations `<https://github.com/pytorch/pytorch/blob/270111b7b611d174967ed204776985cefca9c144/torch/nn/modules/module.py#L866>\n",
    "\n",
    "**Do not call ``model.forward()`` directly!**\n",
    "\n",
    "Calling the model on the input returns a **10-dimensional tensor** with raw predicted values for each class.\n",
    "\n",
    "Get the prediction probabilities by passing it through an instance of the ``nn.Softmax`` module\n",
    "\n"
   ]
  },
  {
   "cell_type": "code",
   "execution_count": 6,
   "metadata": {},
   "outputs": [
    {
     "name": "stdout",
     "output_type": "stream",
     "text": [
      "Predicted class: tensor([5])\n"
     ]
    }
   ],
   "source": [
    "X = torch.rand(1, 28, 28, device=device)\n",
    "logits = model(X) \n",
    "pred_probab = nn.Softmax(dim=1)(logits)\n",
    "y_pred = pred_probab.argmax(1)\n",
    "print(f\"Predicted class: {y_pred}\")"
   ]
  },
  {
   "cell_type": "markdown",
   "metadata": {},
   "source": [
    "--------------\n",
    "\n",
    "\n"
   ]
  },
  {
   "cell_type": "markdown",
   "metadata": {},
   "source": [
    "## Model Layers\n",
    "\n",
    "Layers in the FashionMNIST model\n",
    "- sample minibatch of 3 images of size 28x28 "
   ]
  },
  {
   "cell_type": "code",
   "execution_count": 7,
   "metadata": {},
   "outputs": [
    {
     "name": "stdout",
     "output_type": "stream",
     "text": [
      "torch.Size([3, 28, 28])\n"
     ]
    }
   ],
   "source": [
    "input_image = torch.rand(3,28,28)\n",
    "print(input_image.size())"
   ]
  },
  {
   "cell_type": "markdown",
   "metadata": {},
   "source": [
    "### nn.Flatten\n",
    "\n",
    "Initialize the `nn.Flatten`  <https://pytorch.org/docs/stable/generated/torch.nn.Flatten.html>\n",
    "layer to convert each 2D 28x28 image into a contiguous array of 784 pixel values (\n",
    "the minibatch dimension (at dim=0) is maintained)\n",
    "\n"
   ]
  },
  {
   "cell_type": "code",
   "execution_count": 8,
   "metadata": {},
   "outputs": [
    {
     "name": "stdout",
     "output_type": "stream",
     "text": [
      "torch.Size([3, 784])\n"
     ]
    }
   ],
   "source": [
    "flatten = nn.Flatten()\n",
    "flat_image = flatten(input_image)\n",
    "print(flat_image.size())"
   ]
  },
  {
   "cell_type": "markdown",
   "metadata": {},
   "source": [
    "### nn.Linear \n",
    "\n",
    "The `linear layer` <https://pytorch.org/docs/stable/generated/torch.nn.Linear.html>\n",
    "is a module that applies a linear transformation on the input using its stored weights and biases"
   ]
  },
  {
   "cell_type": "code",
   "execution_count": 9,
   "metadata": {},
   "outputs": [
    {
     "name": "stdout",
     "output_type": "stream",
     "text": [
      "torch.Size([3, 20])\n"
     ]
    }
   ],
   "source": [
    "layer1 = nn.Linear(in_features=28*28, out_features=20)\n",
    "hidden1 = layer1(flat_image)\n",
    "print(hidden1.size())"
   ]
  },
  {
   "cell_type": "markdown",
   "metadata": {},
   "source": [
    "### nn.ReLU\n",
    "\n",
    "Non-linear activations creates the complex mappings between the model's inputs and outputs\n",
    "\n",
    "They are applied after linear transformations to introduce **nonlinearity**, helping neural networks\n",
    "learn a wide variety of phenomena and patterns\n",
    "\n",
    "Use `nn.ReLU` <https://pytorch.org/docs/stable/generated/torch.nn.ReLU.html> between the\n",
    "linear layers"
   ]
  },
  {
   "cell_type": "code",
   "execution_count": 10,
   "metadata": {},
   "outputs": [
    {
     "name": "stdout",
     "output_type": "stream",
     "text": [
      "Before ReLU: tensor([[-0.5680,  0.3874,  0.3821, -0.5361, -0.1964, -0.3354, -0.2435,  0.3195,\n",
      "         -0.1812, -0.1125, -0.1830, -0.3787, -0.3603, -0.7641, -0.0396,  0.1862,\n",
      "          0.6584,  0.4859,  0.3829, -0.4981],\n",
      "        [-0.4336,  0.0613,  0.4952, -0.4822, -0.2920, -0.2154, -0.2760,  0.6031,\n",
      "          0.0697, -0.0041,  0.0721, -0.5252, -0.8989, -0.9482, -0.1632,  0.2312,\n",
      "          0.3729,  0.1233,  0.5083,  0.0125],\n",
      "        [-0.4565, -0.0355,  0.1932, -0.2305, -0.0583, -0.0084, -0.1247,  0.1883,\n",
      "         -0.3462, -0.2060, -0.1600, -0.4131, -0.4139, -0.8751, -0.0260,  0.2280,\n",
      "          0.5177,  0.5567,  0.1884, -0.2145]], grad_fn=<AddmmBackward>)\n",
      "\n",
      "\n",
      "After ReLU: tensor([[0.0000, 0.3874, 0.3821, 0.0000, 0.0000, 0.0000, 0.0000, 0.3195, 0.0000,\n",
      "         0.0000, 0.0000, 0.0000, 0.0000, 0.0000, 0.0000, 0.1862, 0.6584, 0.4859,\n",
      "         0.3829, 0.0000],\n",
      "        [0.0000, 0.0613, 0.4952, 0.0000, 0.0000, 0.0000, 0.0000, 0.6031, 0.0697,\n",
      "         0.0000, 0.0721, 0.0000, 0.0000, 0.0000, 0.0000, 0.2312, 0.3729, 0.1233,\n",
      "         0.5083, 0.0125],\n",
      "        [0.0000, 0.0000, 0.1932, 0.0000, 0.0000, 0.0000, 0.0000, 0.1883, 0.0000,\n",
      "         0.0000, 0.0000, 0.0000, 0.0000, 0.0000, 0.0000, 0.2280, 0.5177, 0.5567,\n",
      "         0.1884, 0.0000]], grad_fn=<ReluBackward0>)\n"
     ]
    }
   ],
   "source": [
    "print(f\"Before ReLU: {hidden1}\\n\\n\")\n",
    "hidden1 = nn.ReLU()(hidden1)\n",
    "print(f\"After ReLU: {hidden1}\")"
   ]
  },
  {
   "cell_type": "markdown",
   "metadata": {},
   "source": [
    "### nn.Sequential\n",
    "\n",
    "`nn.Sequential` <https://pytorch.org/docs/stable/generated/torch.nn.Sequential.html> is an ordered \n",
    "container of modules\n",
    "\n",
    "- The data is passed through all the modules in the same order as defined\n",
    "- Use sequential containers to put together a quick network like ``seq_modules``\n",
    "\n"
   ]
  },
  {
   "cell_type": "code",
   "execution_count": 11,
   "metadata": {},
   "outputs": [],
   "source": [
    "seq_modules = nn.Sequential(\n",
    "    flatten,\n",
    "    layer1,\n",
    "    nn.ReLU(),\n",
    "    nn.Linear(20, 10)\n",
    ")\n",
    "input_image = torch.rand(3,28,28)\n",
    "logits = seq_modules(input_image)"
   ]
  },
  {
   "cell_type": "markdown",
   "metadata": {},
   "source": [
    "### nn.Softmax\n",
    "\n",
    "The last linear layer of the neural network returns `logits` - raw values in [-\\infty, \\infty] - which are passed to the\n",
    "`nn.Softmax` <https://pytorch.org/docs/stable/generated/torch.nn.Softmax.html> module\n",
    "\n",
    "- The logits are scaled to values [0, 1] representing the model's predicted probabilities for each class\n",
    "- ``dim`` parameter indicates the dimension along which the values must sum to 1"
   ]
  },
  {
   "cell_type": "code",
   "execution_count": 12,
   "metadata": {},
   "outputs": [],
   "source": [
    "softmax = nn.Softmax(dim=1)\n",
    "pred_probab = softmax(logits)"
   ]
  },
  {
   "cell_type": "markdown",
   "metadata": {},
   "source": [
    "## Model Parameters\n",
    "\n",
    "Many layers inside a neural network are **parameterized**, i.e. have associated weights \n",
    "and biases that are optimized during training\n",
    "\n",
    "- Subclassing ``nn.Module`` automatically tracks all fields defined inside model object, and makes all parameters \n",
    "accessible using the model's ``parameters()`` or ``named_parameters()`` methods"
   ]
  },
  {
   "cell_type": "code",
   "execution_count": 13,
   "metadata": {},
   "outputs": [
    {
     "name": "stdout",
     "output_type": "stream",
     "text": [
      "Model structure:  NeuralNetwork(\n",
      "  (flatten): Flatten(start_dim=1, end_dim=-1)\n",
      "  (linear_relu_stack): Sequential(\n",
      "    (0): Linear(in_features=784, out_features=512, bias=True)\n",
      "    (1): ReLU()\n",
      "    (2): Linear(in_features=512, out_features=512, bias=True)\n",
      "    (3): ReLU()\n",
      "    (4): Linear(in_features=512, out_features=10, bias=True)\n",
      "    (5): ReLU()\n",
      "  )\n",
      ") \n",
      "\n",
      "\n",
      "Layer: linear_relu_stack.0.weight | Size: torch.Size([512, 784]) | Values : tensor([[ 0.0311, -0.0348, -0.0201,  ...,  0.0128,  0.0173, -0.0127],\n",
      "        [-0.0073,  0.0250,  0.0059,  ..., -0.0003, -0.0159,  0.0077]],\n",
      "       grad_fn=<SliceBackward>) \n",
      "\n",
      "Layer: linear_relu_stack.0.bias | Size: torch.Size([512]) | Values : tensor([-0.0110,  0.0192], grad_fn=<SliceBackward>) \n",
      "\n",
      "Layer: linear_relu_stack.2.weight | Size: torch.Size([512, 512]) | Values : tensor([[ 0.0004, -0.0424,  0.0169,  ..., -0.0185, -0.0436,  0.0224],\n",
      "        [-0.0210,  0.0376, -0.0205,  ..., -0.0282, -0.0434,  0.0192]],\n",
      "       grad_fn=<SliceBackward>) \n",
      "\n",
      "Layer: linear_relu_stack.2.bias | Size: torch.Size([512]) | Values : tensor([ 0.0157, -0.0053], grad_fn=<SliceBackward>) \n",
      "\n",
      "Layer: linear_relu_stack.4.weight | Size: torch.Size([10, 512]) | Values : tensor([[-0.0392,  0.0009,  0.0236,  ..., -0.0235, -0.0065,  0.0377],\n",
      "        [-0.0223, -0.0115, -0.0237,  ..., -0.0187,  0.0149, -0.0137]],\n",
      "       grad_fn=<SliceBackward>) \n",
      "\n",
      "Layer: linear_relu_stack.4.bias | Size: torch.Size([10]) | Values : tensor([-0.0270, -0.0232], grad_fn=<SliceBackward>) \n",
      "\n"
     ]
    }
   ],
   "source": [
    "print(\"Model structure: \", model, \"\\n\\n\")\n",
    "\n",
    "for name, param in model.named_parameters():\n",
    "    print(f\"Layer: {name} | Size: {param.size()} | Values : {param[:2]} \\n\")"
   ]
  },
  {
   "cell_type": "markdown",
   "metadata": {},
   "source": [
    "--------------\n",
    "\n",
    "\n"
   ]
  }
 ],
 "metadata": {
  "kernelspec": {
   "display_name": "Python 3",
   "language": "python",
   "name": "python3"
  },
  "language_info": {
   "codemirror_mode": {
    "name": "ipython",
    "version": 3
   },
   "file_extension": ".py",
   "mimetype": "text/x-python",
   "name": "python",
   "nbconvert_exporter": "python",
   "pygments_lexer": "ipython3",
   "version": "3.7.6"
  }
 },
 "nbformat": 4,
 "nbformat_minor": 1
}
