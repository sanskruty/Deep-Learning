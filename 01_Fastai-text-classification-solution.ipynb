{
 "cells": [
  {
   "cell_type": "markdown",
   "metadata": {
    "_cell_guid": "b1076dfc-b9ad-4769-8c92-a6c4dae69d19",
    "_uuid": "8f2839f25d086af736a60e9eeb907d3b93b6e0e5"
   },
   "source": [
    "# Fastai Text Classification of Movie Reviews\n",
    "## This notebook outlines the concepts involved using Fastai for Text Classification with a Pretrained model"
   ]
  },
  {
   "cell_type": "markdown",
   "metadata": {},
   "source": [
    "### Import the library"
   ]
  },
  {
   "cell_type": "code",
   "execution_count": 1,
   "metadata": {
    "execution": {
     "iopub.execute_input": "2021-05-28T17:41:34.327546Z",
     "iopub.status.busy": "2021-05-28T17:41:34.327125Z",
     "iopub.status.idle": "2021-05-28T17:41:38.774212Z",
     "shell.execute_reply": "2021-05-28T17:41:38.773472Z",
     "shell.execute_reply.started": "2021-05-28T17:41:34.327460Z"
    }
   },
   "outputs": [],
   "source": [
    "from fastai.text.all import *"
   ]
  },
  {
   "cell_type": "markdown",
   "metadata": {},
   "source": [
    "### Get the IMDB data"
   ]
  },
  {
   "cell_type": "code",
   "execution_count": 2,
   "metadata": {
    "execution": {
     "iopub.execute_input": "2021-05-28T17:41:51.683483Z",
     "iopub.status.busy": "2021-05-28T17:41:51.683146Z",
     "iopub.status.idle": "2021-05-28T17:42:22.824441Z",
     "shell.execute_reply": "2021-05-28T17:42:22.823735Z",
     "shell.execute_reply.started": "2021-05-28T17:41:51.683451Z"
    }
   },
   "outputs": [
    {
     "data": {
      "text/html": [],
      "text/plain": [
       "<IPython.core.display.HTML object>"
      ]
     },
     "metadata": {},
     "output_type": "display_data"
    },
    {
     "data": {
      "text/plain": [
       "(#7) [Path('/root/.fastai/data/imdb/imdb.vocab'),Path('/root/.fastai/data/imdb/README'),Path('/root/.fastai/data/imdb/unsup'),Path('/root/.fastai/data/imdb/test'),Path('/root/.fastai/data/imdb/tmp_lm'),Path('/root/.fastai/data/imdb/train'),Path('/root/.fastai/data/imdb/tmp_clas')]"
      ]
     },
     "execution_count": 2,
     "metadata": {},
     "output_type": "execute_result"
    }
   ],
   "source": [
    "path = untar_data(URLs.IMDB)\n",
    "path.ls()"
   ]
  },
  {
   "cell_type": "markdown",
   "metadata": {},
   "source": [
    "### Look at the training data"
   ]
  },
  {
   "cell_type": "code",
   "execution_count": 3,
   "metadata": {
    "execution": {
     "iopub.execute_input": "2021-05-28T17:42:22.826498Z",
     "iopub.status.busy": "2021-05-28T17:42:22.826151Z",
     "iopub.status.idle": "2021-05-28T17:42:22.832401Z",
     "shell.execute_reply": "2021-05-28T17:42:22.831583Z",
     "shell.execute_reply.started": "2021-05-28T17:42:22.826463Z"
    }
   },
   "outputs": [
    {
     "data": {
      "text/plain": [
       "(#4) [Path('/root/.fastai/data/imdb/train/neg'),Path('/root/.fastai/data/imdb/train/unsupBow.feat'),Path('/root/.fastai/data/imdb/train/labeledBow.feat'),Path('/root/.fastai/data/imdb/train/pos')]"
      ]
     },
     "execution_count": 3,
     "metadata": {},
     "output_type": "execute_result"
    }
   ],
   "source": [
    "(path/'train').ls()"
   ]
  },
  {
   "cell_type": "markdown",
   "metadata": {},
   "source": [
    "### Look at the testing data"
   ]
  },
  {
   "cell_type": "code",
   "execution_count": null,
   "metadata": {},
   "outputs": [],
   "source": [
    "(path/'test').ls()"
   ]
  },
  {
   "cell_type": "markdown",
   "metadata": {},
   "source": [
    "### Load the data using TextDataLoaders"
   ]
  },
  {
   "cell_type": "code",
   "execution_count": 4,
   "metadata": {
    "execution": {
     "iopub.execute_input": "2021-05-28T17:42:24.523931Z",
     "iopub.status.busy": "2021-05-28T17:42:24.523589Z",
     "iopub.status.idle": "2021-05-28T17:48:04.096709Z",
     "shell.execute_reply": "2021-05-28T17:48:04.095675Z",
     "shell.execute_reply.started": "2021-05-28T17:42:24.523898Z"
    }
   },
   "outputs": [
    {
     "data": {
      "text/html": [],
      "text/plain": [
       "<IPython.core.display.HTML object>"
      ]
     },
     "metadata": {},
     "output_type": "display_data"
    }
   ],
   "source": [
    "dls = TextDataLoaders.from_folder(untar_data(URLs.IMDB), valid='test')"
   ]
  },
  {
   "cell_type": "markdown",
   "metadata": {},
   "source": [
    "### Show some sample data"
   ]
  },
  {
   "cell_type": "code",
   "execution_count": 5,
   "metadata": {
    "collapsed": true,
    "execution": {
     "iopub.execute_input": "2021-05-28T17:48:04.100607Z",
     "iopub.status.busy": "2021-05-28T17:48:04.100317Z",
     "iopub.status.idle": "2021-05-28T17:48:04.321895Z",
     "shell.execute_reply": "2021-05-28T17:48:04.321090Z",
     "shell.execute_reply.started": "2021-05-28T17:48:04.100579Z"
    }
   },
   "outputs": [
    {
     "data": {
      "text/html": [
       "<table border=\"1\" class=\"dataframe\">\n",
       "  <thead>\n",
       "    <tr style=\"text-align: right;\">\n",
       "      <th></th>\n",
       "      <th>text</th>\n",
       "      <th>category</th>\n",
       "    </tr>\n",
       "  </thead>\n",
       "  <tbody>\n",
       "    <tr>\n",
       "      <th>0</th>\n",
       "      <td>xxbos xxmaj match 1 : xxmaj tag xxmaj team xxmaj table xxmaj match xxmaj bubba xxmaj ray and xxmaj spike xxmaj dudley vs xxmaj eddie xxmaj guerrero and xxmaj chris xxmaj benoit xxmaj bubba xxmaj ray and xxmaj spike xxmaj dudley started things off with a xxmaj tag xxmaj team xxmaj table xxmaj match against xxmaj eddie xxmaj guerrero and xxmaj chris xxmaj benoit . xxmaj according to the rules of the match , both opponents have to go through tables in order to get the win . xxmaj benoit and xxmaj guerrero heated up early on by taking turns hammering first xxmaj spike and then xxmaj bubba xxmaj ray . a xxmaj german xxunk by xxmaj benoit to xxmaj bubba took the wind out of the xxmaj dudley brother . xxmaj spike tried to help his brother , but the referee restrained him while xxmaj benoit and xxmaj guerrero</td>\n",
       "      <td>pos</td>\n",
       "    </tr>\n",
       "    <tr>\n",
       "      <th>1</th>\n",
       "      <td>xxbos xxmaj in xxup nyc , seaman xxmaj michael o'hara ( orson xxmaj welles ) rescues xxmaj elsa xxmaj bannister ( rita xxmaj hayworth ) from a mugging &amp; rape as she takes a horse &amp; carriage through xxmaj central xxmaj park -and lives to regret it . xxmaj xxunk - haired xxmaj hayworth 's a platinum blonde in this one ; as dazzling as fresh - fallen snow -but nowhere near as pure … \\n\\n xxmaj to reveal any more of the convoluted plot in this seminal \" noir \" would be criminal . xxmaj it 's as deceptive as the mirrors used to cataclysmic effect in the final scenes -but the film holds far darker secrets : xxmaj from the xxup ny xxmaj times : \" childhood xxmaj shadows : xxmaj the xxmaj hidden xxmaj story xxmaj of xxmaj the xxmaj black xxmaj dahlia xxmaj murder \" by</td>\n",
       "      <td>pos</td>\n",
       "    </tr>\n",
       "    <tr>\n",
       "      <th>2</th>\n",
       "      <td>xxbos xxup myra xxup breckinridge is one of those rare films that established its place in film history immediately . xxmaj praise for the film was absolutely nonexistent , even from the people involved in making it . xxmaj this film was loathed from day one . xxmaj while every now and then one will come across some maverick who will praise the film on philosophical grounds ( aggressive feminism or the courage to tackle the issue of xxunk ) , the film has not developed a cult following like some notorious flops do . xxmaj it 's not hailed as a misunderstood masterpiece like xxup scarface , or trotted out to be ridiculed as a camp classic like xxup showgirls . \\n\\n xxmaj undoubtedly the reason is that the film , though outrageously awful , is not lovable , or even likable . xxup myra xxup breckinridge is just</td>\n",
       "      <td>neg</td>\n",
       "    </tr>\n",
       "    <tr>\n",
       "      <th>3</th>\n",
       "      <td>xxbos xxmaj it is not as great a film as many people believe ( including my late aunt , who said it was her favorite movie ) . xxmaj but due to the better sections of this film noir , particularly that justifiably famous \" fun house \" finale , xxup the xxup lady xxup from xxup shanghai has gained a position of importance beyond it 's actual worth as a key to the saga of xxmaj orson xxmaj welles ' failure to conquer xxmaj hollywood . \\n\\n xxmaj by 1946 xxmaj welles ' position as a xxmaj hollywood figure was mixed . xxup citizen xxup kane was not recognized as the great movie it has since been seen as due to the way it was attacked by the xxmaj hearst press and by xxmaj hollywood insiders themselves . xxmaj welles ' attempt at total control ( direction and production</td>\n",
       "      <td>pos</td>\n",
       "    </tr>\n",
       "    <tr>\n",
       "      <th>4</th>\n",
       "      <td>xxbos xxmaj well , on it 's credit side ( if it can be said to have one ) , xxmaj timothy xxmaj hines xxup did manage to capture the original setting of xxup h.g . xxmaj wells ' outstanding novella . xxmaj but other than that - well , to call a spade a spade - it sucks bigtime . xxmaj what the xxmaj master xxmaj ed xxmaj wood could have done with the alleged $ 20 million dollar budget ! xxmaj timothy xxmaj hines really does make xxmaj mr . xxmaj wood , who was a flawed genius anyway , look like the best filmmaker of all time . xxmaj the special effects ( i guess you 'd call them that ) are not even up to computer game standards . xxmaj the acting is , well , perhaps about dinner theater comparable , and the accents are</td>\n",
       "      <td>neg</td>\n",
       "    </tr>\n",
       "    <tr>\n",
       "      <th>5</th>\n",
       "      <td>xxbos xxmaj this film reminds me of 42nd xxmaj street starring xxmaj bebe xxmaj daniels and xxmaj ruby xxmaj keeler . xxmaj when i watch this film a lot of it reminded me of 42nd xxmaj street , especially the character xxmaj eloise who 's a temperamental star and she ends up falling and breaks her ankle , like xxmaj bebe xxmaj daniels did in 42nd xxmaj street and another performer gets the part and become a star . xxmaj this film , like most race films , keeps people watching because of the great entertainment . xxmaj race films always showed xxmaj black xxmaj entertainment as it truly was that was popular in that time era . xxmaj the xxmaj dancing xxmaj styles , xxmaj the xxmaj music , xxmaj dressing xxmaj styles , xxmaj you 'll xxmaj love xxmaj it . xxmaj this movie could of been big</td>\n",
       "      <td>pos</td>\n",
       "    </tr>\n",
       "    <tr>\n",
       "      <th>6</th>\n",
       "      <td>xxbos xxmaj on xxmaj sunday xxmaj july 27 , 1997 , the first episode of a new science fiction series called \" stargate xxup sg-1 \" was broadcast on xxmaj showtime . a spin - off of and sequel to the 1994 film \" stargate \" starring xxmaj kurt xxmaj russell and xxmaj james xxmaj spader , the series begins approximately one year after the events portrayed in the film . xxmaj for ten seasons , it chronicled the adventures and misadventures of an intrepid team of explorers known as xxup sg-1 . xxmaj originally , the series starred xxmaj richard xxmaj dean xxmaj anderson as xxmaj colonel xxmaj jack o'neill ( two \" xxunk ! ) , xxmaj michael xxmaj shanks as xxmaj dr . xxmaj daniel xxmaj jackson , xxmaj amanda xxmaj tapping as xxmaj captain xxmaj samantha xxmaj carter , xxmaj christopher xxmaj judge as xxmaj teal'c</td>\n",
       "      <td>pos</td>\n",
       "    </tr>\n",
       "    <tr>\n",
       "      <th>7</th>\n",
       "      <td>xxbos xxup warning : xxup possible xxup spoilers ( not that you should care . xxmaj also , sorry for the caps . ) \\n\\n xxmaj starting with an unnecessarily dramatic voice that 's all the more annoying for talking nonsense , it goes on with nonsense and unnecessary drama . xxmaj that 's badly but accurately put . \\n\\n xxmaj we know space travel is a risky enterprise . xxmaj there 's a complicated system with a lot of potential for malfunctions , radiation , stress - related symptoms etc , and unexpected things are bound to happen in largely unknown environments . xxmaj they knew stuff could go wrong . xxmaj in fact , stuff had gone wrong . xxmaj it 's called learning . xxmaj granted , xxmaj xxunk 11 was n't safe by today 's standards and there was immense political pressure , but the overall</td>\n",
       "      <td>neg</td>\n",
       "    </tr>\n",
       "    <tr>\n",
       "      <th>8</th>\n",
       "      <td>xxbos xxmaj if you 've ever been harassed on the xxmaj underground by a xxmaj christian who says , \" jesus is the answer . xxmaj what 's the question ? \" , then perhaps you should thank xxmaj god if you 've never met a xxmaj lacanian . xxmaj slavoj xxmaj zizek , the most evangelical of xxmaj xxunk , would surely exchange the word \" jesus \" in that statement for \" lacan / xxmaj hegel \" . \\n\\n xxmaj zizek 's star burns brightly at the moment , no doubt because we generally view films and pop culture purely as entertainment for our consumption . xxmaj so it seems impressive when someone - anyone - comes along and says , \" hang on , films may say something about ourselves . \" \\n\\n xxmaj the ideas xxmaj zizek expounds in this film are \" true \" purely</td>\n",
       "      <td>neg</td>\n",
       "    </tr>\n",
       "  </tbody>\n",
       "</table>"
      ],
      "text/plain": [
       "<IPython.core.display.HTML object>"
      ]
     },
     "metadata": {},
     "output_type": "display_data"
    }
   ],
   "source": [
    "dls.show_batch()"
   ]
  },
  {
   "cell_type": "markdown",
   "metadata": {},
   "source": [
    "### Create a Text Classifier Learner model\n",
    "- Use `AWD_LSTM` pre-trained model\n",
    "- Use `drop_mult`\n",
    "- Use `accuracy` as metrics"
   ]
  },
  {
   "cell_type": "code",
   "execution_count": 6,
   "metadata": {
    "execution": {
     "iopub.execute_input": "2021-05-28T17:48:04.323878Z",
     "iopub.status.busy": "2021-05-28T17:48:04.323347Z",
     "iopub.status.idle": "2021-05-28T17:48:11.161992Z",
     "shell.execute_reply": "2021-05-28T17:48:11.161037Z",
     "shell.execute_reply.started": "2021-05-28T17:48:04.323837Z"
    }
   },
   "outputs": [
    {
     "data": {
      "text/html": [],
      "text/plain": [
       "<IPython.core.display.HTML object>"
      ]
     },
     "metadata": {},
     "output_type": "display_data"
    }
   ],
   "source": [
    "learn = text_classifier_learner(dls, AWD_LSTM, drop_mult=0.5, metrics=accuracy)"
   ]
  },
  {
   "cell_type": "markdown",
   "metadata": {},
   "source": [
    "### Fine tune the model"
   ]
  },
  {
   "cell_type": "code",
   "execution_count": 7,
   "metadata": {
    "execution": {
     "iopub.execute_input": "2021-05-28T17:48:11.163523Z",
     "iopub.status.busy": "2021-05-28T17:48:11.163183Z",
     "iopub.status.idle": "2021-05-28T18:07:26.137149Z",
     "shell.execute_reply": "2021-05-28T18:07:26.136411Z",
     "shell.execute_reply.started": "2021-05-28T17:48:11.163489Z"
    }
   },
   "outputs": [
    {
     "data": {
      "text/html": [
       "<table border=\"1\" class=\"dataframe\">\n",
       "  <thead>\n",
       "    <tr style=\"text-align: left;\">\n",
       "      <th>epoch</th>\n",
       "      <th>train_loss</th>\n",
       "      <th>valid_loss</th>\n",
       "      <th>accuracy</th>\n",
       "      <th>time</th>\n",
       "    </tr>\n",
       "  </thead>\n",
       "  <tbody>\n",
       "    <tr>\n",
       "      <td>0</td>\n",
       "      <td>0.460190</td>\n",
       "      <td>0.399025</td>\n",
       "      <td>0.825680</td>\n",
       "      <td>02:18</td>\n",
       "    </tr>\n",
       "  </tbody>\n",
       "</table>"
      ],
      "text/plain": [
       "<IPython.core.display.HTML object>"
      ]
     },
     "metadata": {},
     "output_type": "display_data"
    },
    {
     "data": {
      "text/html": [
       "<table border=\"1\" class=\"dataframe\">\n",
       "  <thead>\n",
       "    <tr style=\"text-align: left;\">\n",
       "      <th>epoch</th>\n",
       "      <th>train_loss</th>\n",
       "      <th>valid_loss</th>\n",
       "      <th>accuracy</th>\n",
       "      <th>time</th>\n",
       "    </tr>\n",
       "  </thead>\n",
       "  <tbody>\n",
       "    <tr>\n",
       "      <td>0</td>\n",
       "      <td>0.300102</td>\n",
       "      <td>0.268582</td>\n",
       "      <td>0.892240</td>\n",
       "      <td>04:13</td>\n",
       "    </tr>\n",
       "    <tr>\n",
       "      <td>1</td>\n",
       "      <td>0.252371</td>\n",
       "      <td>0.216222</td>\n",
       "      <td>0.912240</td>\n",
       "      <td>04:14</td>\n",
       "    </tr>\n",
       "    <tr>\n",
       "      <td>2</td>\n",
       "      <td>0.189036</td>\n",
       "      <td>0.188024</td>\n",
       "      <td>0.927480</td>\n",
       "      <td>04:14</td>\n",
       "    </tr>\n",
       "    <tr>\n",
       "      <td>3</td>\n",
       "      <td>0.141919</td>\n",
       "      <td>0.190254</td>\n",
       "      <td>0.928440</td>\n",
       "      <td>04:14</td>\n",
       "    </tr>\n",
       "  </tbody>\n",
       "</table>"
      ],
      "text/plain": [
       "<IPython.core.display.HTML object>"
      ]
     },
     "metadata": {},
     "output_type": "display_data"
    }
   ],
   "source": [
    "learn.fine_tune(4, 1e-2)"
   ]
  },
  {
   "cell_type": "markdown",
   "metadata": {},
   "source": [
    "### Fine tune more !!!"
   ]
  },
  {
   "cell_type": "code",
   "execution_count": 8,
   "metadata": {
    "execution": {
     "iopub.execute_input": "2021-05-28T18:07:26.140286Z",
     "iopub.status.busy": "2021-05-28T18:07:26.139925Z",
     "iopub.status.idle": "2021-05-28T18:26:43.125046Z",
     "shell.execute_reply": "2021-05-28T18:26:43.124270Z",
     "shell.execute_reply.started": "2021-05-28T18:07:26.140244Z"
    }
   },
   "outputs": [
    {
     "data": {
      "text/html": [
       "<table border=\"1\" class=\"dataframe\">\n",
       "  <thead>\n",
       "    <tr style=\"text-align: left;\">\n",
       "      <th>epoch</th>\n",
       "      <th>train_loss</th>\n",
       "      <th>valid_loss</th>\n",
       "      <th>accuracy</th>\n",
       "      <th>time</th>\n",
       "    </tr>\n",
       "  </thead>\n",
       "  <tbody>\n",
       "    <tr>\n",
       "      <td>0</td>\n",
       "      <td>0.148129</td>\n",
       "      <td>0.207969</td>\n",
       "      <td>0.924160</td>\n",
       "      <td>02:19</td>\n",
       "    </tr>\n",
       "  </tbody>\n",
       "</table>"
      ],
      "text/plain": [
       "<IPython.core.display.HTML object>"
      ]
     },
     "metadata": {},
     "output_type": "display_data"
    },
    {
     "data": {
      "text/html": [
       "<table border=\"1\" class=\"dataframe\">\n",
       "  <thead>\n",
       "    <tr style=\"text-align: left;\">\n",
       "      <th>epoch</th>\n",
       "      <th>train_loss</th>\n",
       "      <th>valid_loss</th>\n",
       "      <th>accuracy</th>\n",
       "      <th>time</th>\n",
       "    </tr>\n",
       "  </thead>\n",
       "  <tbody>\n",
       "    <tr>\n",
       "      <td>0</td>\n",
       "      <td>0.157720</td>\n",
       "      <td>0.205270</td>\n",
       "      <td>0.926600</td>\n",
       "      <td>04:14</td>\n",
       "    </tr>\n",
       "    <tr>\n",
       "      <td>1</td>\n",
       "      <td>0.152965</td>\n",
       "      <td>0.236421</td>\n",
       "      <td>0.918040</td>\n",
       "      <td>04:14</td>\n",
       "    </tr>\n",
       "    <tr>\n",
       "      <td>2</td>\n",
       "      <td>0.103303</td>\n",
       "      <td>0.218629</td>\n",
       "      <td>0.927080</td>\n",
       "      <td>04:15</td>\n",
       "    </tr>\n",
       "    <tr>\n",
       "      <td>3</td>\n",
       "      <td>0.079932</td>\n",
       "      <td>0.222269</td>\n",
       "      <td>0.929320</td>\n",
       "      <td>04:13</td>\n",
       "    </tr>\n",
       "  </tbody>\n",
       "</table>"
      ],
      "text/plain": [
       "<IPython.core.display.HTML object>"
      ]
     },
     "metadata": {},
     "output_type": "display_data"
    }
   ],
   "source": [
    "learn.fine_tune(4, 1e-2)"
   ]
  },
  {
   "cell_type": "markdown",
   "metadata": {},
   "source": [
    "### Show the results"
   ]
  },
  {
   "cell_type": "code",
   "execution_count": 9,
   "metadata": {
    "collapsed": true,
    "execution": {
     "iopub.execute_input": "2021-05-28T18:26:43.128392Z",
     "iopub.status.busy": "2021-05-28T18:26:43.128108Z",
     "iopub.status.idle": "2021-05-28T18:26:44.256345Z",
     "shell.execute_reply": "2021-05-28T18:26:44.255504Z",
     "shell.execute_reply.started": "2021-05-28T18:26:43.128352Z"
    }
   },
   "outputs": [
    {
     "data": {
      "text/html": [],
      "text/plain": [
       "<IPython.core.display.HTML object>"
      ]
     },
     "metadata": {},
     "output_type": "display_data"
    },
    {
     "data": {
      "text/html": [
       "<table border=\"1\" class=\"dataframe\">\n",
       "  <thead>\n",
       "    <tr style=\"text-align: right;\">\n",
       "      <th></th>\n",
       "      <th>text</th>\n",
       "      <th>category</th>\n",
       "      <th>category_</th>\n",
       "    </tr>\n",
       "  </thead>\n",
       "  <tbody>\n",
       "    <tr>\n",
       "      <th>0</th>\n",
       "      <td>xxbos xxmaj there 's a sign on xxmaj the xxmaj lost xxmaj highway that says : \\n\\n * major xxup spoilers xxup ahead * \\n\\n ( but you already knew that , did n't you ? ) \\n\\n xxmaj since there 's a great deal of people that apparently did not get the point of this movie , xxmaj i 'd like to contribute my interpretation of why the plot makes perfect sense . xxmaj as others have pointed out , one single viewing of this movie is not sufficient . xxmaj if you have the xxup dvd of xxup md , you can \" cheat \" by looking at xxmaj david xxmaj lynch 's \" top 10 xxmaj hints to xxmaj unlocking xxup md \" ( but only upon second or third viewing , please . ) ;) \\n\\n xxmaj first of all , xxmaj mulholland xxmaj drive is</td>\n",
       "      <td>pos</td>\n",
       "      <td>pos</td>\n",
       "    </tr>\n",
       "    <tr>\n",
       "      <th>1</th>\n",
       "      <td>xxbos xxmaj based on the excellent novel , xxmaj watchers by xxmaj dean xxmaj koontz , is this extremely awful motion picture that probably should n't be viewed by anyone . xxmaj not since \" the xxmaj running xxmaj man \" have i seen a book butchered so far beyond recognition . xxmaj the difference , however , is that \" the xxmaj running xxmaj man \" film was still enjoyable as an amusing action film laden down a million catch phrases . xxmaj this film ",
       "▁ xxmaj nope , nothing remotely amusing . xxmaj in fact , if you love the book , as i do , you 'll hate this bastardization even more . \\n\\n * * xxunk xxup spoilers * * xxmaj xxunk , xxmaj i 'm basically going to tell you the story here , almost in it 's entirety . xxmaj why ? xxmaj because</td>\n",
       "      <td>neg</td>\n",
       "      <td>neg</td>\n",
       "    </tr>\n",
       "    <tr>\n",
       "      <th>2</th>\n",
       "      <td>xxbos \" empire xxmaj strikes xxmaj back \" director xxmaj irvin xxmaj kershner 's \" never xxmaj say xxmaj never xxmaj again , \" a remake of the 1965 xxmaj james xxmaj bond movie \" thunderball , \" does n't surpasses the xxmaj terence xxmaj young original , but this non - harry xxmaj saltzman &amp; xxmaj albert xxup r. xxmaj broccoli film is well worth watching if you call yourself a 007 aficionado . xxmaj nevertheless , despite its shortage of clever gadgets and the lack of a vibrant musical score , \" never xxmaj say xxmaj never xxmaj again \" rates as an above - average , suspenseful doomsday thriller with top - flight performances by a seasoned cast including xxmaj sean xxmaj connery , xxmaj kim xxmaj basinger , xxmaj klaus xxmaj maria xxmaj brandauer , xxmaj max xxmaj von xxmaj sydow , xxmaj barbara xxmaj carrera</td>\n",
       "      <td>pos</td>\n",
       "      <td>neg</td>\n",
       "    </tr>\n",
       "    <tr>\n",
       "      <th>3</th>\n",
       "      <td>xxbos xxmaj years ago , when xxup darling xxup lili played on xxup tv , it was always the pan and scan version , which i hated and decided to wait and see the film in its proper widescreen format . xxmaj so when i saw an inexpensive xxup dvd of this xxmaj julie xxmaj andrews / xxmaj blake xxmaj edwards opus , i decided to purchase and watch it once and for all . \\n\\n xxmaj boy , what a terrible film . xxmaj it 's so bad and on so many levels that i really do not know where to start in describing where and when it goes so horribly wrong . xxmaj looking at it now , it 's obvious to any fans of movies that xxmaj blake xxmaj edwards created this star vehicle for his wife simply because so many other directors had struck gold with</td>\n",
       "      <td>neg</td>\n",
       "      <td>neg</td>\n",
       "    </tr>\n",
       "    <tr>\n",
       "      <th>4</th>\n",
       "      <td>xxbos xxmaj clayton xxmaj moore made his last official appearance on screen as the xxmaj masked xxmaj man in director xxmaj lesley xxmaj selander 's epic adventure \" the xxmaj lone xxmaj ranger and the xxmaj lost xxmaj city of xxmaj gold , \" co - starring xxmaj jay xxmaj silverheels as his faithful xxmaj indian scout xxmaj tonto . xxmaj selander was an old hand at helming westerns during his 40 years in films and television with over a 100 westerns to his directorial credit . xxmaj this fast - paced horse opera embraced a revisionist perspective in its depiction of xxmaj native xxmaj americans that had been gradually gaining acceptance since 1950 in xxmaj hollywood oaters after director xxmaj delmar xxmaj daves blazed the trail with the xxmaj james xxmaj stewart western \" broken xxmaj arrow . \" xxmaj racial intolerance figures as the primary theme in the</td>\n",
       "      <td>pos</td>\n",
       "      <td>pos</td>\n",
       "    </tr>\n",
       "    <tr>\n",
       "      <th>5</th>\n",
       "      <td>xxbos 1904 . xxmaj the xxmaj north xxmaj african nation of xxmaj morocco is hanging onto a tenuous xxmaj independence , as the various xxmaj european powers - xxmaj france , xxmaj germany , xxmaj britain , xxmaj russia , xxmaj spain , and now the xxmaj united xxmaj states - are vying for influence in the region . xxmaj the xxmaj sultan ( marc xxmaj xxunk ) is a weak puppet ; his uncle , the xxmaj bashaw ( vladek xxmaj sheybal ) , who is being manipulated by the xxmaj french and xxmaj germans , is the real power behind the throne . xxmaj enter xxmaj berber xxmaj xxunk xxmaj raisuli ( sean xxmaj connery ) , the leader of the xxmaj rif tribe and \" the last of the xxmaj xxunk xxmaj pirates \" , who kidnaps an xxmaj american missionary , xxmaj eden xxmaj pedecaris (</td>\n",
       "      <td>pos</td>\n",
       "      <td>pos</td>\n",
       "    </tr>\n",
       "    <tr>\n",
       "      <th>6</th>\n",
       "      <td>xxbos \" gaming ? xxmaj nicotine ? xxmaj fisticuffs ? xxmaj we 're moving in a descending spiral of iniquity ! \" xxmaj so says the head of xxmaj st . xxmaj swithen 's upon inspecting the master 's common at xxmaj nutbourne . xxmaj the faculty and students of xxmaj st . xxmaj swithen 's have been ordered to share facilities at xxmaj nutbourne to avoid xxmaj german bombs during xxmaj world xxmaj war xxup ii . xxmaj then there 's the masters ' library . \" the xxmaj diary of xxmaj samuel xxmaj xxunk ? xxmaj abridged … well , that 's something to be thankful for . xxmaj what 's up here ? xxmaj the xxmaj memoirs of xxmaj casanova ? xxmaj was n't that the book we caught xxmaj jessica xxmaj james reading in the closet ? xxmaj decameron xxmaj nights ! xxmaj well , really</td>\n",
       "      <td>pos</td>\n",
       "      <td>pos</td>\n",
       "    </tr>\n",
       "    <tr>\n",
       "      <th>7</th>\n",
       "      <td>xxbos 1983 was \" the battle of the xxmaj bonds \" . xxmaj that year both xxmaj roger xxmaj moore and xxmaj sean xxmaj connery starred in two separate xxmaj james xxmaj bond film , the former ( octopussy ) was produced by the \" official \" makers of the xxmaj bond films while the later ( never xxmaj say xxmaj never xxmaj again ) was produced \" unofficially \" by a group led by xxmaj kevin mcclory who held the film rights to xxmaj thunderball . xxmaj surprisingly enough is the \" unofficial \" film that is better despite the obvious flaw of and the fact that xxmaj never xxmaj say xxmaj never xxmaj again is a remake of xxmaj thunderball . \\n\\n xxmaj never xxmaj say xxmaj never xxmaj again has the distinction of sporting one of the best casts ever assembled for a xxmaj bond film .</td>\n",
       "      <td>pos</td>\n",
       "      <td>pos</td>\n",
       "    </tr>\n",
       "    <tr>\n",
       "      <th>8</th>\n",
       "      <td>xxbos xxmaj universal studios . xxmaj the name conjures up so many memories to horror fans of beautiful matte paintings … er … landscapes , fog - enshrouded xxunk , full moons , howling wolves , taverns and torch wielding mobs . xxmaj yet , it is quite strange looking back on those films , how little the era which produced the true classics lasted . xxmaj the ' 30 's had it 's masterpieces , but those were mostly from the same directors and many of their films are mostly of historical interest today . xxmaj the ' 40 's produced more mindlessly fun matinée films than it did high art , and most fans agree that the classic era of the xxmaj gothic horror films ended in 1945 with ' house of xxmaj dracula ' , bumped around with the xxmaj abbott &amp; xxmaj costello comedies , and</td>\n",
       "      <td>pos</td>\n",
       "      <td>pos</td>\n",
       "    </tr>\n",
       "  </tbody>\n",
       "</table>"
      ],
      "text/plain": [
       "<IPython.core.display.HTML object>"
      ]
     },
     "metadata": {},
     "output_type": "display_data"
    }
   ],
   "source": [
    "learn.show_results()"
   ]
  },
  {
   "cell_type": "markdown",
   "metadata": {},
   "source": [
    "### Test the model with a random review"
   ]
  },
  {
   "cell_type": "code",
   "execution_count": 10,
   "metadata": {
    "execution": {
     "iopub.execute_input": "2021-05-28T18:26:44.258279Z",
     "iopub.status.busy": "2021-05-28T18:26:44.257923Z",
     "iopub.status.idle": "2021-05-28T18:26:44.308257Z",
     "shell.execute_reply": "2021-05-28T18:26:44.307431Z",
     "shell.execute_reply.started": "2021-05-28T18:26:44.258243Z"
    }
   },
   "outputs": [
    {
     "data": {
      "text/html": [],
      "text/plain": [
       "<IPython.core.display.HTML object>"
      ]
     },
     "metadata": {},
     "output_type": "display_data"
    },
    {
     "data": {
      "text/plain": [
       "('pos', tensor(1), tensor([2.2957e-04, 9.9977e-01]))"
      ]
     },
     "execution_count": 10,
     "metadata": {},
     "output_type": "execute_result"
    }
   ],
   "source": [
    "learn.predict(\"I really liked that movie!\")"
   ]
  },
  {
   "cell_type": "code",
   "execution_count": null,
   "metadata": {},
   "outputs": [],
   "source": []
  }
 ],
 "metadata": {
  "kernelspec": {
   "display_name": "Python 3",
   "language": "python",
   "name": "python3"
  },
  "language_info": {
   "codemirror_mode": {
    "name": "ipython",
    "version": 3
   },
   "file_extension": ".py",
   "mimetype": "text/x-python",
   "name": "python",
   "nbconvert_exporter": "python",
   "pygments_lexer": "ipython3",
   "version": "3.8.5"
  }
 },
 "nbformat": 4,
 "nbformat_minor": 4
}
